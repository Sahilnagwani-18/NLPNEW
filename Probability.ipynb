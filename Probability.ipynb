{
 "cells": [
  {
   "cell_type": "code",
   "execution_count": null,
   "id": "f61eb239",
   "metadata": {},
   "outputs": [],
   "source": [
    "def unigram_add_one_prob(word):\n",
    "    return (unigram_counts.get(word, 0) + 1) / (total_unigrams + V)\n"
   ]
  },
  {
   "cell_type": "code",
   "execution_count": null,
   "id": "70e81ff7",
   "metadata": {},
   "outputs": [],
   "source": []
  },
  {
   "cell_type": "code",
   "execution_count": null,
   "id": "84399d81",
   "metadata": {},
   "outputs": [
    {
     "name": "stdout",
     "output_type": "stream",
     "text": [
      "Unigram probabilities saved  to unigram_probabilities.csv\n"
     ]
    }
   ],
   "source": [
    "import pickle\n",
    "import csv\n",
    "\n",
    "with open(\"unigram_counts.pkl\", \"rb\") as f:\n",
    "    unigram_counts = pickle.load(f)\n",
    "\n",
    "V = len(unigram_counts)\n",
    "total_unigrams = sum(unigram_counts.values())\n",
    "\n",
    "with open(\"unigram_probabilities.csv\", \"w\", newline=\"\", encoding=\"utf-8\") as csvfile:\n",
    "    writer = csv.writer(csvfile)\n",
    "    writer.writerow([\"Word\", \"Count\", \"Add-One\", \"Add-K\", \"Token-Type\"])  \n",
    "    for word, count in unigram_counts.items():\n",
    "        add_one = (count + 1) / (total_unigrams + V)\n",
    "        k = 0.5\n",
    "        add_k = (count + k) / (total_unigrams + k * V)\n",
    "        add_token_type = (count + V) / (total_unigrams + V * V)\n",
    "        \n",
    "        writer.writerow([word, count, add_one, add_k, add_token_type])\n",
    "\n",
    "print(\"Unigram probabilities saved  to unigram_probabilities.csv\")\n"
   ]
  },
  {
   "cell_type": "code",
   "execution_count": 6,
   "id": "ce9dc304",
   "metadata": {},
   "outputs": [],
   "source": [
    "del unigram_counts"
   ]
  },
  {
   "cell_type": "code",
   "execution_count": 3,
   "id": "1f1e4475",
   "metadata": {},
   "outputs": [],
   "source": [
    "import pandas as pd\n",
    "\n",
    "df_prob=pd.read_csv(\"unigram_probabilities.csv\")"
   ]
  },
  {
   "cell_type": "code",
   "execution_count": 4,
   "id": "57d9da4d",
   "metadata": {},
   "outputs": [
    {
     "data": {
      "text/html": [
       "<div>\n",
       "<style scoped>\n",
       "    .dataframe tbody tr th:only-of-type {\n",
       "        vertical-align: middle;\n",
       "    }\n",
       "\n",
       "    .dataframe tbody tr th {\n",
       "        vertical-align: top;\n",
       "    }\n",
       "\n",
       "    .dataframe thead th {\n",
       "        text-align: right;\n",
       "    }\n",
       "</style>\n",
       "<table border=\"1\" class=\"dataframe\">\n",
       "  <thead>\n",
       "    <tr style=\"text-align: right;\">\n",
       "      <th></th>\n",
       "      <th>Word</th>\n",
       "      <th>Count</th>\n",
       "      <th>Add-One</th>\n",
       "      <th>Add-K</th>\n",
       "      <th>Token-Type</th>\n",
       "    </tr>\n",
       "  </thead>\n",
       "  <tbody>\n",
       "    <tr>\n",
       "      <th>0</th>\n",
       "      <td>इनेलो</td>\n",
       "      <td>971</td>\n",
       "      <td>0.000005</td>\n",
       "      <td>0.000005</td>\n",
       "      <td>7.989484e-07</td>\n",
       "    </tr>\n",
       "    <tr>\n",
       "      <th>1</th>\n",
       "      <td>1987</td>\n",
       "      <td>1127</td>\n",
       "      <td>0.000006</td>\n",
       "      <td>0.000006</td>\n",
       "      <td>7.990478e-07</td>\n",
       "    </tr>\n",
       "    <tr>\n",
       "      <th>2</th>\n",
       "      <td>में</td>\n",
       "      <td>5487609</td>\n",
       "      <td>0.027267</td>\n",
       "      <td>0.027352</td>\n",
       "      <td>4.296193e-06</td>\n",
       "    </tr>\n",
       "    <tr>\n",
       "      <th>3</th>\n",
       "      <td>उस</td>\n",
       "      <td>100409</td>\n",
       "      <td>0.000499</td>\n",
       "      <td>0.000500</td>\n",
       "      <td>8.623313e-07</td>\n",
       "    </tr>\n",
       "    <tr>\n",
       "      <th>4</th>\n",
       "      <td>वक्त</td>\n",
       "      <td>35995</td>\n",
       "      <td>0.000179</td>\n",
       "      <td>0.000179</td>\n",
       "      <td>8.212731e-07</td>\n",
       "    </tr>\n",
       "  </tbody>\n",
       "</table>\n",
       "</div>"
      ],
      "text/plain": [
       "    Word    Count   Add-One     Add-K    Token-Type\n",
       "0  इनेलो      971  0.000005  0.000005  7.989484e-07\n",
       "1   1987     1127  0.000006  0.000006  7.990478e-07\n",
       "2    में  5487609  0.027267  0.027352  4.296193e-06\n",
       "3     उस   100409  0.000499  0.000500  8.623313e-07\n",
       "4   वक्त    35995  0.000179  0.000179  8.212731e-07"
      ]
     },
     "execution_count": 4,
     "metadata": {},
     "output_type": "execute_result"
    }
   ],
   "source": [
    "df_prob.head()"
   ]
  },
  {
   "cell_type": "code",
   "execution_count": 5,
   "id": "51be64b7",
   "metadata": {},
   "outputs": [
    {
     "data": {
      "text/plain": [
       "(1252456, 5)"
      ]
     },
     "execution_count": 5,
     "metadata": {},
     "output_type": "execute_result"
    }
   ],
   "source": [
    "df_prob.shape"
   ]
  },
  {
   "cell_type": "code",
   "execution_count": 7,
   "id": "45120640",
   "metadata": {},
   "outputs": [
    {
     "name": "stdout",
     "output_type": "stream",
     "text": [
      "Bigram probabilities saved to bigram_probabilities.csv\n"
     ]
    }
   ],
   "source": [
    "import pickle\n",
    "import csv\n",
    "\n",
    "\n",
    "with open(\"bigram_counts.pkl\", \"rb\") as f:\n",
    "    bigram_counts = pickle.load(f)\n",
    "\n",
    "with open(\"unigram_counts.pkl\", \"rb\") as f:\n",
    "    unigram_counts = pickle.load(f)\n",
    "\n",
    "V = len(unigram_counts) \n",
    "k = 0.5  \n",
    "with open(\"bigram_probabilities.csv\", \"w\", newline=\"\", encoding=\"utf-8\") as csvfile:\n",
    "    writer = csv.writer(csvfile)\n",
    "    writer.writerow([\"Bigram\", \"Count\", \"Add-One\", \"Add-K\", \"Token-Type\"])  # Header\n",
    "\n",
    "    for bigram, count in bigram_counts.items():\n",
    "        w1, w2 = bigram.split()  \n",
    "        w1_count = unigram_counts.get(w1, 0)  \n",
    "\n",
    "        add_one = (count + 1) / (w1_count + V)\n",
    "\n",
    "        add_k = (count + k) / (w1_count + k * V)\n",
    "\n",
    "      \n",
    "        add_token_type = (count + V) / (w1_count + V * V)\n",
    "\n",
    "        writer.writerow([bigram, count, add_one, add_k, add_token_type])\n",
    "\n",
    "print(\"Bigram probabilities saved to bigram_probabilities.csv\")\n"
   ]
  },
  {
   "cell_type": "code",
   "execution_count": 8,
   "id": "b63648fe",
   "metadata": {},
   "outputs": [
    {
     "data": {
      "text/html": [
       "<div>\n",
       "<style scoped>\n",
       "    .dataframe tbody tr th:only-of-type {\n",
       "        vertical-align: middle;\n",
       "    }\n",
       "\n",
       "    .dataframe tbody tr th {\n",
       "        vertical-align: top;\n",
       "    }\n",
       "\n",
       "    .dataframe thead th {\n",
       "        text-align: right;\n",
       "    }\n",
       "</style>\n",
       "<table border=\"1\" class=\"dataframe\">\n",
       "  <thead>\n",
       "    <tr style=\"text-align: right;\">\n",
       "      <th></th>\n",
       "      <th>Bigram</th>\n",
       "      <th>Count</th>\n",
       "      <th>Add-One</th>\n",
       "      <th>Add-K</th>\n",
       "      <th>Token-Type</th>\n",
       "    </tr>\n",
       "  </thead>\n",
       "  <tbody>\n",
       "    <tr>\n",
       "      <th>0</th>\n",
       "      <td>&lt;sos&gt; इनेलो</td>\n",
       "      <td>224</td>\n",
       "      <td>0.000180</td>\n",
       "      <td>0.000358</td>\n",
       "      <td>7.985740e-07</td>\n",
       "    </tr>\n",
       "    <tr>\n",
       "      <th>1</th>\n",
       "      <td>इनेलो 1987</td>\n",
       "      <td>1</td>\n",
       "      <td>0.000002</td>\n",
       "      <td>0.000002</td>\n",
       "      <td>7.984319e-07</td>\n",
       "    </tr>\n",
       "    <tr>\n",
       "      <th>2</th>\n",
       "      <td>1987 में</td>\n",
       "      <td>550</td>\n",
       "      <td>0.000440</td>\n",
       "      <td>0.000877</td>\n",
       "      <td>7.987819e-07</td>\n",
       "    </tr>\n",
       "    <tr>\n",
       "      <th>3</th>\n",
       "      <td>में उस</td>\n",
       "      <td>2830</td>\n",
       "      <td>0.000420</td>\n",
       "      <td>0.000463</td>\n",
       "      <td>8.002325e-07</td>\n",
       "    </tr>\n",
       "    <tr>\n",
       "      <th>4</th>\n",
       "      <td>उस वक्त</td>\n",
       "      <td>7558</td>\n",
       "      <td>0.005587</td>\n",
       "      <td>0.010402</td>\n",
       "      <td>8.032494e-07</td>\n",
       "    </tr>\n",
       "  </tbody>\n",
       "</table>\n",
       "</div>"
      ],
      "text/plain": [
       "        Bigram  Count   Add-One     Add-K    Token-Type\n",
       "0  <sos> इनेलो    224  0.000180  0.000358  7.985740e-07\n",
       "1   इनेलो 1987      1  0.000002  0.000002  7.984319e-07\n",
       "2     1987 में    550  0.000440  0.000877  7.987819e-07\n",
       "3       में उस   2830  0.000420  0.000463  8.002325e-07\n",
       "4      उस वक्त   7558  0.005587  0.010402  8.032494e-07"
      ]
     },
     "execution_count": 8,
     "metadata": {},
     "output_type": "execute_result"
    }
   ],
   "source": [
    "df_prob_big=pd.read_csv(\"bigram_probabilities.csv\")\n",
    "df_prob_big.head()"
   ]
  },
  {
   "cell_type": "code",
   "execution_count": 9,
   "id": "56a359c4",
   "metadata": {},
   "outputs": [],
   "source": [
    "del unigram_counts\n",
    "del bigram_counts"
   ]
  },
  {
   "cell_type": "code",
   "execution_count": null,
   "id": "5e554306",
   "metadata": {},
   "outputs": [],
   "source": [
    "import pickle\n",
    "import csv\n",
    "\n",
    "\n",
    "with open(\"bigram_counts.pkl\", \"rb\") as f:\n",
    "    bigram_counts = pickle.load(f)\n",
    "\n",
    "with open(\"unigram_counts.pkl\", \"rb\") as f:\n",
    "    unigram_counts = pickle.load(f)\n",
    "\n",
    "V = len(unigram_counts) \n",
    "k = 0.5  \n",
    "with open(\"bigram_probabilities.csv\", \"w\", newline=\"\", encoding=\"utf-8\") as csvfile:\n",
    "    writer = csv.writer(csvfile)\n",
    "    writer.writerow([\"Bigram\", \"Count\", \"Add-One\", \"Add-K\", \"Token-Type\"])  # Header\n",
    "\n",
    "    for bigram, count in bigram_counts.items():\n",
    "        w1, w2 = bigram.split()  \n",
    "        w1_count = unigram_counts.get(w1, 0)  \n",
    "\n",
    "        add_one = (count + 1) / (w1_count + V)\n",
    "\n",
    "        add_k = (count + k) / (w1_count + k * V)\n",
    "\n",
    "      \n",
    "        add_token_type = (count + V) / (w1_count + V * V)\n",
    "\n",
    "        writer.writerow([bigram, count, add_one, add_k, add_token_type])\n",
    "\n",
    "print(\"Bigram probabilities saved to bigram_probabilities.csv\")\n"
   ]
  },
  {
   "cell_type": "code",
   "execution_count": 10,
   "id": "a9226f04",
   "metadata": {},
   "outputs": [
    {
     "name": "stdout",
     "output_type": "stream",
     "text": [
      "Trigram probabilities saved to trigram_probabilities.csv\n"
     ]
    }
   ],
   "source": [
    "import pickle\n",
    "import csv\n",
    "\n",
    "with open(\"trigram_counts.pkl\", \"rb\") as f:\n",
    "    trigram_counts = pickle.load(f)\n",
    "\n",
    "with open(\"bigram_counts.pkl\", \"rb\") as f:\n",
    "    bigram_counts = pickle.load(f)\n",
    "\n",
    "V = len(bigram_counts)  \n",
    "k = 0.5  \n",
    "\n",
    "with open(\"trigram_probabilities.csv\", \"w\", newline=\"\", encoding=\"utf-8\") as csvfile:\n",
    "    writer = csv.writer(csvfile)\n",
    "    writer.writerow([\"Trigram\", \"Count\", \"Add-One\", \"Add-K\", \"Token-Type\"])  # Header\n",
    "\n",
    "    for trigram, count in trigram_counts.items():\n",
    "        w1, w2, w3 = trigram.split()  \n",
    "        bigram_key = f\"{w1} {w2}\"\n",
    "        bigram_count = bigram_counts.get(bigram_key, 0)\n",
    "\n",
    "        \n",
    "        add_one = (count + 1) / (bigram_count + V)\n",
    "\n",
    "        \n",
    "        add_k = (count + k) / (bigram_count + k * V)\n",
    "\n",
    "       \n",
    "        add_token_type = (count + V) / (bigram_count + V * V)\n",
    "\n",
    "        writer.writerow([trigram, count, add_one, add_k, add_token_type])\n",
    "\n",
    "print(\"Trigram probabilities saved to trigram_probabilities.csv\")\n"
   ]
  },
  {
   "cell_type": "code",
   "execution_count": 11,
   "id": "d1ac115d",
   "metadata": {},
   "outputs": [],
   "source": [
    "del trigram_counts\n",
    "del bigram_counts  "
   ]
  },
  {
   "cell_type": "code",
   "execution_count": 1,
   "id": "9236c421",
   "metadata": {},
   "outputs": [
    {
     "name": "stdout",
     "output_type": "stream",
     "text": [
      "Quadgram probabilities saved to quadgram_probabilities.csv\n"
     ]
    }
   ],
   "source": [
    "import pickle\n",
    "import csv\n",
    "\n",
    "\n",
    "with open(\"quadgram_counts.pkl\", \"rb\") as f:\n",
    "    quadgram_counts = pickle.load(f)\n",
    "\n",
    "with open(\"trigram_counts.pkl\", \"rb\") as f:\n",
    "    trigram_counts = pickle.load(f)\n",
    "\n",
    "\n",
    "V = len(trigram_counts)  \n",
    "k = 0.5  # Add-k value\n",
    "\n",
    "with open(\"quadgram_probabilities.csv\", \"w\", newline=\"\", encoding=\"utf-8\") as csvfile:\n",
    "    writer = csv.writer(csvfile)\n",
    "    writer.writerow([\"Quadgram\", \"Count\", \"Add-One\", \"Add-K\", \"Token-Type\"])  # Header\n",
    "\n",
    "    for quadgram, count in quadgram_counts.items():\n",
    "        w1, w2, w3, w4 = quadgram.split()\n",
    "        trigram_key = f\"{w1} {w2} {w3}\"\n",
    "        trigram_count = trigram_counts.get(trigram_key, 0)\n",
    "\n",
    "        \n",
    "        add_one = (count + 1) / (trigram_count + V)\n",
    "\n",
    "        \n",
    "        add_k = (count + k) / (trigram_count + k * V)\n",
    "\n",
    "        \n",
    "        add_token_type = (count + V) / (trigram_count + V * V)\n",
    "\n",
    "        writer.writerow([quadgram, count, add_one, add_k, add_token_type])\n",
    "\n",
    "print(\"Quadgram probabilities saved to quadgram_probabilities.csv\")\n"
   ]
  },
  {
   "cell_type": "code",
   "execution_count": 2,
   "id": "83e20b58",
   "metadata": {},
   "outputs": [
    {
     "ename": "NameError",
     "evalue": "name 'unigram_counts' is not defined",
     "output_type": "error",
     "traceback": [
      "\u001b[1;31m---------------------------------------------------------------------------\u001b[0m",
      "\u001b[1;31mNameError\u001b[0m                                 Traceback (most recent call last)",
      "Cell \u001b[1;32mIn[2], line 1\u001b[0m\n\u001b[1;32m----> 1\u001b[0m \u001b[38;5;28;01mdel\u001b[39;00m unigram_counts\n\u001b[0;32m      2\u001b[0m \u001b[38;5;28;01mdel\u001b[39;00m bigram_counts\n\u001b[0;32m      3\u001b[0m \u001b[38;5;28;01mdel\u001b[39;00m trigram_count\n",
      "\u001b[1;31mNameError\u001b[0m: name 'unigram_counts' is not defined"
     ]
    }
   ],
   "source": [
    "del unigram_counts\n",
    "del bigram_counts\n",
    "del trigram_count\n",
    "del quadgram_counts"
   ]
  }
 ],
 "metadata": {
  "kernelspec": {
   "display_name": "base",
   "language": "python",
   "name": "python3"
  },
  "language_info": {
   "codemirror_mode": {
    "name": "ipython",
    "version": 3
   },
   "file_extension": ".py",
   "mimetype": "text/x-python",
   "name": "python",
   "nbconvert_exporter": "python",
   "pygments_lexer": "ipython3",
   "version": "3.13.5"
  }
 },
 "nbformat": 4,
 "nbformat_minor": 5
}
