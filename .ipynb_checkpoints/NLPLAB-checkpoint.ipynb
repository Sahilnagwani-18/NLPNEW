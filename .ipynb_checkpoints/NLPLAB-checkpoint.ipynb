{
 "cells": [
  {
   "cell_type": "code",
   "execution_count": 1,
   "id": "d373ba19-42bc-48c8-bfb8-3d8be9ed1c19",
   "metadata": {},
   "outputs": [
    {
     "name": "stdout",
     "output_type": "stream",
     "text": [
      "Collecting datasets\n",
      "  Downloading datasets-4.0.0-py3-none-any.whl.metadata (19 kB)\n",
      "Requirement already satisfied: filelock in c:\\users\\sahil\\anaconda3\\lib\\site-packages (from datasets) (3.17.0)\n",
      "Requirement already satisfied: numpy>=1.17 in c:\\users\\sahil\\anaconda3\\lib\\site-packages (from datasets) (2.1.3)\n",
      "Requirement already satisfied: pyarrow>=15.0.0 in c:\\users\\sahil\\anaconda3\\lib\\site-packages (from datasets) (19.0.0)\n",
      "Requirement already satisfied: dill<0.3.9,>=0.3.0 in c:\\users\\sahil\\anaconda3\\lib\\site-packages (from datasets) (0.3.8)\n",
      "Requirement already satisfied: pandas in c:\\users\\sahil\\anaconda3\\lib\\site-packages (from datasets) (2.2.3)\n",
      "Requirement already satisfied: requests>=2.32.2 in c:\\users\\sahil\\anaconda3\\lib\\site-packages (from datasets) (2.32.3)\n",
      "Requirement already satisfied: tqdm>=4.66.3 in c:\\users\\sahil\\anaconda3\\lib\\site-packages (from datasets) (4.67.1)\n",
      "Collecting xxhash (from datasets)\n",
      "  Downloading xxhash-3.5.0-cp313-cp313-win_amd64.whl.metadata (13 kB)\n",
      "Collecting multiprocess<0.70.17 (from datasets)\n",
      "  Downloading multiprocess-0.70.16-py312-none-any.whl.metadata (7.2 kB)\n",
      "Collecting fsspec<=2025.3.0,>=2023.1.0 (from fsspec[http]<=2025.3.0,>=2023.1.0->datasets)\n",
      "  Downloading fsspec-2025.3.0-py3-none-any.whl.metadata (11 kB)\n",
      "Collecting huggingface-hub>=0.24.0 (from datasets)\n",
      "  Downloading huggingface_hub-0.34.4-py3-none-any.whl.metadata (14 kB)\n",
      "Requirement already satisfied: packaging in c:\\users\\sahil\\anaconda3\\lib\\site-packages (from datasets) (24.2)\n",
      "Requirement already satisfied: pyyaml>=5.1 in c:\\users\\sahil\\anaconda3\\lib\\site-packages (from datasets) (6.0.2)\n",
      "Requirement already satisfied: aiohttp!=4.0.0a0,!=4.0.0a1 in c:\\users\\sahil\\anaconda3\\lib\\site-packages (from fsspec[http]<=2025.3.0,>=2023.1.0->datasets) (3.11.10)\n",
      "Requirement already satisfied: aiohappyeyeballs>=2.3.0 in c:\\users\\sahil\\anaconda3\\lib\\site-packages (from aiohttp!=4.0.0a0,!=4.0.0a1->fsspec[http]<=2025.3.0,>=2023.1.0->datasets) (2.4.4)\n",
      "Requirement already satisfied: aiosignal>=1.1.2 in c:\\users\\sahil\\anaconda3\\lib\\site-packages (from aiohttp!=4.0.0a0,!=4.0.0a1->fsspec[http]<=2025.3.0,>=2023.1.0->datasets) (1.2.0)\n",
      "Requirement already satisfied: attrs>=17.3.0 in c:\\users\\sahil\\anaconda3\\lib\\site-packages (from aiohttp!=4.0.0a0,!=4.0.0a1->fsspec[http]<=2025.3.0,>=2023.1.0->datasets) (24.3.0)\n",
      "Requirement already satisfied: frozenlist>=1.1.1 in c:\\users\\sahil\\anaconda3\\lib\\site-packages (from aiohttp!=4.0.0a0,!=4.0.0a1->fsspec[http]<=2025.3.0,>=2023.1.0->datasets) (1.5.0)\n",
      "Requirement already satisfied: multidict<7.0,>=4.5 in c:\\users\\sahil\\anaconda3\\lib\\site-packages (from aiohttp!=4.0.0a0,!=4.0.0a1->fsspec[http]<=2025.3.0,>=2023.1.0->datasets) (6.1.0)\n",
      "Requirement already satisfied: propcache>=0.2.0 in c:\\users\\sahil\\anaconda3\\lib\\site-packages (from aiohttp!=4.0.0a0,!=4.0.0a1->fsspec[http]<=2025.3.0,>=2023.1.0->datasets) (0.3.1)\n",
      "Requirement already satisfied: yarl<2.0,>=1.17.0 in c:\\users\\sahil\\anaconda3\\lib\\site-packages (from aiohttp!=4.0.0a0,!=4.0.0a1->fsspec[http]<=2025.3.0,>=2023.1.0->datasets) (1.18.0)\n",
      "Requirement already satisfied: idna>=2.0 in c:\\users\\sahil\\anaconda3\\lib\\site-packages (from yarl<2.0,>=1.17.0->aiohttp!=4.0.0a0,!=4.0.0a1->fsspec[http]<=2025.3.0,>=2023.1.0->datasets) (3.7)\n",
      "Requirement already satisfied: typing-extensions>=3.7.4.3 in c:\\users\\sahil\\anaconda3\\lib\\site-packages (from huggingface-hub>=0.24.0->datasets) (4.12.2)\n",
      "Requirement already satisfied: charset-normalizer<4,>=2 in c:\\users\\sahil\\anaconda3\\lib\\site-packages (from requests>=2.32.2->datasets) (3.3.2)\n",
      "Requirement already satisfied: urllib3<3,>=1.21.1 in c:\\users\\sahil\\anaconda3\\lib\\site-packages (from requests>=2.32.2->datasets) (2.3.0)\n",
      "Requirement already satisfied: certifi>=2017.4.17 in c:\\users\\sahil\\anaconda3\\lib\\site-packages (from requests>=2.32.2->datasets) (2025.4.26)\n",
      "Requirement already satisfied: colorama in c:\\users\\sahil\\anaconda3\\lib\\site-packages (from tqdm>=4.66.3->datasets) (0.4.6)\n",
      "Requirement already satisfied: python-dateutil>=2.8.2 in c:\\users\\sahil\\anaconda3\\lib\\site-packages (from pandas->datasets) (2.9.0.post0)\n",
      "Requirement already satisfied: pytz>=2020.1 in c:\\users\\sahil\\anaconda3\\lib\\site-packages (from pandas->datasets) (2024.1)\n",
      "Requirement already satisfied: tzdata>=2022.7 in c:\\users\\sahil\\anaconda3\\lib\\site-packages (from pandas->datasets) (2025.2)\n",
      "Requirement already satisfied: six>=1.5 in c:\\users\\sahil\\anaconda3\\lib\\site-packages (from python-dateutil>=2.8.2->pandas->datasets) (1.17.0)\n",
      "Downloading datasets-4.0.0-py3-none-any.whl (494 kB)\n",
      "Downloading fsspec-2025.3.0-py3-none-any.whl (193 kB)\n",
      "Downloading multiprocess-0.70.16-py312-none-any.whl (146 kB)\n",
      "Downloading huggingface_hub-0.34.4-py3-none-any.whl (561 kB)\n",
      "   ---------------------------------------- 0.0/561.5 kB ? eta -:--:--\n",
      "   ---------------------------------------- 561.5/561.5 kB 4.8 MB/s eta 0:00:00\n",
      "Downloading xxhash-3.5.0-cp313-cp313-win_amd64.whl (30 kB)\n",
      "Installing collected packages: xxhash, multiprocess, fsspec, huggingface-hub, datasets\n",
      "\n",
      "   -------- ------------------------------- 1/5 [multiprocess]\n",
      "   -------- ------------------------------- 1/5 [multiprocess]\n",
      "   -------- ------------------------------- 1/5 [multiprocess]\n",
      "  Attempting uninstall: fsspec\n",
      "   -------- ------------------------------- 1/5 [multiprocess]\n",
      "    Found existing installation: fsspec 2025.3.2\n",
      "   -------- ------------------------------- 1/5 [multiprocess]\n",
      "   ---------------- ----------------------- 2/5 [fsspec]\n",
      "    Uninstalling fsspec-2025.3.2:\n",
      "   ---------------- ----------------------- 2/5 [fsspec]\n",
      "      Successfully uninstalled fsspec-2025.3.2\n",
      "   ---------------- ----------------------- 2/5 [fsspec]\n",
      "   ---------------- ----------------------- 2/5 [fsspec]\n",
      "   ---------------- ----------------------- 2/5 [fsspec]\n",
      "   ---------------- ----------------------- 2/5 [fsspec]\n",
      "   ---------------- ----------------------- 2/5 [fsspec]\n",
      "   ---------------- ----------------------- 2/5 [fsspec]\n",
      "   ---------------- ----------------------- 2/5 [fsspec]\n",
      "   ------------------------ --------------- 3/5 [huggingface-hub]\n",
      "   ------------------------ --------------- 3/5 [huggingface-hub]\n",
      "   ------------------------ --------------- 3/5 [huggingface-hub]\n",
      "   ------------------------ --------------- 3/5 [huggingface-hub]\n",
      "   ------------------------ --------------- 3/5 [huggingface-hub]\n",
      "   ------------------------ --------------- 3/5 [huggingface-hub]\n",
      "   ------------------------ --------------- 3/5 [huggingface-hub]\n",
      "   ------------------------ --------------- 3/5 [huggingface-hub]\n",
      "   ------------------------ --------------- 3/5 [huggingface-hub]\n",
      "   ------------------------ --------------- 3/5 [huggingface-hub]\n",
      "   -------------------------------- ------- 4/5 [datasets]\n",
      "   -------------------------------- ------- 4/5 [datasets]\n",
      "   -------------------------------- ------- 4/5 [datasets]\n",
      "   -------------------------------- ------- 4/5 [datasets]\n",
      "   -------------------------------- ------- 4/5 [datasets]\n",
      "   -------------------------------- ------- 4/5 [datasets]\n",
      "   -------------------------------- ------- 4/5 [datasets]\n",
      "   -------------------------------- ------- 4/5 [datasets]\n",
      "   -------------------------------- ------- 4/5 [datasets]\n",
      "   -------------------------------- ------- 4/5 [datasets]\n",
      "   -------------------------------- ------- 4/5 [datasets]\n",
      "   ---------------------------------------- 5/5 [datasets]\n",
      "\n",
      "Successfully installed datasets-4.0.0 fsspec-2025.3.0 huggingface-hub-0.34.4 multiprocess-0.70.16 xxhash-3.5.0\n",
      "Note: you may need to restart the kernel to use updated packages.\n"
     ]
    },
    {
     "name": "stderr",
     "output_type": "stream",
     "text": [
      "ERROR: pip's dependency resolver does not currently take into account all the packages that are installed. This behaviour is the source of the following dependency conflicts.\n",
      "s3fs 2025.3.2 requires fsspec==2025.3.2.*, but you have fsspec 2025.3.0 which is incompatible.\n"
     ]
    }
   ],
   "source": [
    "pip install datasets "
   ]
  },
  {
   "cell_type": "code",
   "execution_count": 2,
   "id": "998f2b93-57b7-47c2-86bb-179704c41459",
   "metadata": {},
   "outputs": [],
   "source": [
    "import re\n",
    "def sentence_tokenizer(paragraph):\n",
    "  pattern='[\\u0964!?.][^0-9.0-9]'\n",
    "  sentences=re.split(pattern,paragraph)\n",
    "  ends=re.findall(pattern,paragraph)\n",
    "  res=[]\n",
    "  for sentence in sentences:\n",
    "    if ends==[]:\n",
    "      break\n",
    "    end=ends.pop(0)\n",
    "    res.append(sentence.strip() + end)\n",
    "  return res\n",
    "\n",
    "\n",
    "def word_tokenizer(sentence):\n",
    "    url_pattern = r'https?://(?:www\\.)?[a-zA-Z0-9-]+\\.[a-zA-Z]{2,}'\n",
    "    email_pattern = r'[a-zA-Z0-9._%+-]+@[a-zA-Z0-9.-]+\\.[a-zA-Z]{2,}'\n",
    "\n",
    "    # Phone numbers (with optional +91 or +९१)\n",
    "    phone_pattern = r'(?:\\+?[0-9\\u0966-\\u096F]{1,3}[\\s-]?)?[0-9\\u0966-\\u096F]{10}'\n",
    "\n",
    "    # Time format: 10:30 or १०:३०\n",
    "    time_pattern = r'[0-9\\u0966-\\u096F]{1,2}:[0-9\\u0966-\\u096F]{2}'\n",
    "\n",
    "    # Decimal and whole numbers\n",
    "    latin_number = r'[0-9]+(?:\\.[0-9]+)?'\n",
    "    devnag_number = r'[\\u0966-\\u096F]+(?:\\.[\\u0966-\\u096F]+)?'\n",
    "\n",
    "    # Punctuation\n",
    "    punctuation = r'[!?\\.\\u0964\\,\"\\'\\+-]'\n",
    "\n",
    "    # Hindi / Devanagari words\n",
    "    hindi_word = fr'[\\u0900-\\u0963\\u0965-\\u096F]+[^!?\\.\\u0964\\,\"\\'\\+-]'\n",
    "    english_word = r'[a-zA-Z]+'\n",
    "\n",
    "\n",
    "    # Emojis (basic unicode emoji range)\n",
    "    emoji_pattern = r'[\\U0001F300-\\U0001FAFF\\U00002700-\\U000027BF]'\n",
    "\n",
    "    # Final combined pattern\n",
    "    pattern = fr'{email_pattern}|{url_pattern}|{phone_pattern}|{time_pattern}|{latin_number}|{devnag_number}|{punctuation}|{hindi_word}|{emoji_pattern}|{english_word}'\n",
    "\n",
    "    return re.findall(pattern, sentence)\n",
    "\n",
    "\n"
   ]
  },
  {
   "cell_type": "code",
   "execution_count": 3,
   "id": "9ce4a574-39dc-4665-87d2-a96eae4fd7d8",
   "metadata": {},
   "outputs": [],
   "source": [
    "from datasets import load_dataset\n",
    "from tqdm import tqdm\n",
    "import re\n",
    "import csv"
   ]
  },
  {
   "cell_type": "code",
   "execution_count": 6,
   "id": "86eee491-69bb-48af-bcd1-691499d1837a",
   "metadata": {},
   "outputs": [],
   "source": [
    "dataset = load_dataset(\"ai4bharat/IndicCorpV2\", \"indiccorp_v2\", split=\"hin_Deva\", streaming=True)"
   ]
  },
  {
   "cell_type": "code",
   "execution_count": 7,
   "id": "9d2c73a7-1a83-4893-97d5-1e14bdc8e7e8",
   "metadata": {},
   "outputs": [
    {
     "data": {
      "text/plain": [
       "IterableDataset({\n",
       "    features: Unknown,\n",
       "    num_shards: 3\n",
       "})"
      ]
     },
     "execution_count": 7,
     "metadata": {},
     "output_type": "execute_result"
    }
   ],
   "source": [
    "dataset"
   ]
  },
  {
   "cell_type": "code",
   "execution_count": 8,
   "id": "d928be32-ed2a-4ab9-a2e9-12cb5f90aeac",
   "metadata": {},
   "outputs": [],
   "source": [
    "tokenized_words_csv = \"hindi_tokenized_words.csv\"           \n",
    "reconstructed_csv = \"hindi_reconstructed_sentences.csv\"     \n",
    "re_sentence_csv = \"hindi_re_sentence_tokenized.csv\" "
   ]
  },
  {
   "cell_type": "code",
   "execution_count": 9,
   "id": "9242e4dd-8335-45d4-9128-e56b69cb77ad",
   "metadata": {},
   "outputs": [],
   "source": [
    "max_lines = 10_000_000   \n",
    "log_every = 100_000      \n",
    "flush_every = 10_000 "
   ]
  },
  {
   "cell_type": "code",
   "execution_count": null,
   "id": "061b246d-72d3-43bf-9867-7b0555721fe1",
   "metadata": {},
   "outputs": [
    {
     "name": "stderr",
     "output_type": "stream",
     "text": [
      "Processed original sentences:   1%|▍                                    | 103222/10000000 [00:45<16:29, 10003.54sent/s]"
     ]
    },
    {
     "name": "stdout",
     "output_type": "stream",
     "text": [
      "[LOG] original sentences processed: 100,000 | re-sentences written: 101,167\n"
     ]
    },
    {
     "name": "stderr",
     "output_type": "stream",
     "text": [
      "Processed original sentences:   2%|▋                                    | 169015/10000000 [01:00<10:36, 15439.52sent/s]"
     ]
    }
   ],
   "source": [
    "with open(tokenized_words_csv, \"w\", encoding=\"utf-8\", newline='') as words_file, \\\n",
    "     open(reconstructed_csv, \"w\", encoding=\"utf-8\", newline='') as recon_file, \\\n",
    "     open(re_sentence_csv, \"w\", encoding=\"utf-8\", newline='') as re_sent_file:\n",
    "\n",
    "    words_writer = csv.writer(words_file)\n",
    "    recon_writer = csv.writer(recon_file)\n",
    "    re_sent_writer = csv.writer(re_sent_file)\n",
    "\n",
    "    # Headers\n",
    "    words_writer.writerow([\"tokens\"])\n",
    "    recon_writer.writerow([\"reconstructed_sentence\"])\n",
    "    re_sent_writer.writerow([\"re_sentence\"])\n",
    "\n",
    "    count_original_sentences = 0\n",
    "    count_re_sentences = 0\n",
    "\n",
    "    pbar = tqdm(total=max_lines, desc=\"Processed original sentences\", unit=\"sent\")\n",
    "\n",
    "    for row in dataset:                       # streaming dataset\n",
    "        text = row.get(\"text\", \"\") or \"\"\n",
    "        sentences = sentence_tokenizer(text)  # step 1: sentence-tokenize paragraph\n",
    "\n",
    "        for sent in sentences:\n",
    "            # --- step 2: word-tokenize this sentence\n",
    "            tokens = word_tokenizer(sent)\n",
    "\n",
    "            # --- step 2a: save tokenized words (space-joined)\n",
    "            token_line = \" \".join(tokens)\n",
    "            words_writer.writerow([token_line])\n",
    "\n",
    "            # --- step 3: reconstruct sentence from tokens and save\n",
    "            reconstructed = token_line  # joining tokens with space\n",
    "            recon_writer.writerow([reconstructed])\n",
    "\n",
    "            # --- step 4: sentence-tokenize the reconstructed string and save each re-sentence\n",
    "            re_sentences = sentence_tokenizer(reconstructed)\n",
    "            if re_sentences:\n",
    "                for rs in re_sentences:\n",
    "                    re_sent_writer.writerow([rs])\n",
    "                    count_re_sentences += 1\n",
    "            else:\n",
    "                # If sentence_tokenizer returns empty, still store reconstructed as fallback\n",
    "                re_sent_writer.writerow([reconstructed])\n",
    "                count_re_sentences += 1\n",
    "\n",
    "            # --- counting, progress, and flushing\n",
    "            count_original_sentences += 1\n",
    "            pbar.update(1)\n",
    "\n",
    "            if count_original_sentences % flush_every == 0:\n",
    "                words_file.flush(); recon_file.flush(); re_sent_file.flush()\n",
    "\n",
    "            if count_original_sentences % log_every == 0:\n",
    "                print(f\"[LOG] original sentences processed: {count_original_sentences:,} | re-sentences written: {count_re_sentences:,}\")\n",
    "\n",
    "            # stop condition (based on original sentences)\n",
    "            if count_original_sentences >= max_lines:\n",
    "                break\n",
    "\n",
    "        if count_original_sentences >= max_lines:\n",
    "            break\n",
    "\n",
    "    pbar.close()\n"
   ]
  }
 ],
 "metadata": {
  "kernelspec": {
   "display_name": "Python 3 (ipykernel)",
   "language": "python",
   "name": "python3"
  },
  "language_info": {
   "codemirror_mode": {
    "name": "ipython",
    "version": 3
   },
   "file_extension": ".py",
   "mimetype": "text/x-python",
   "name": "python",
   "nbconvert_exporter": "python",
   "pygments_lexer": "ipython3",
   "version": "3.13.5"
  }
 },
 "nbformat": 4,
 "nbformat_minor": 5
}
