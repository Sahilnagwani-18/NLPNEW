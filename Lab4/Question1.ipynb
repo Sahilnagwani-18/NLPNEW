{
 "cells": [
  {
   "cell_type": "code",
   "execution_count": null,
   "id": "a61d3583",
   "metadata": {},
   "outputs": [],
   "source": [
    "import pandas as pd\n",
    "import numpy as np\n"
   ]
  },
  {
   "cell_type": "code",
   "execution_count": 11,
   "id": "85d78d37",
   "metadata": {},
   "outputs": [],
   "source": [
    "#Firstly Creating For Bigram "
   ]
  },
  {
   "cell_type": "code",
   "execution_count": null,
   "id": "28f72f24",
   "metadata": {},
   "outputs": [],
   "source": [
    "dfbi = pd.read_csv(r\"C:\\\\sahil\\NLP\\bigram_probabilities.csv\")"
   ]
  },
  {
   "cell_type": "code",
   "execution_count": 4,
   "id": "31ca394c",
   "metadata": {},
   "outputs": [
    {
     "data": {
      "text/html": [
       "<div>\n",
       "<style scoped>\n",
       "    .dataframe tbody tr th:only-of-type {\n",
       "        vertical-align: middle;\n",
       "    }\n",
       "\n",
       "    .dataframe tbody tr th {\n",
       "        vertical-align: top;\n",
       "    }\n",
       "\n",
       "    .dataframe thead th {\n",
       "        text-align: right;\n",
       "    }\n",
       "</style>\n",
       "<table border=\"1\" class=\"dataframe\">\n",
       "  <thead>\n",
       "    <tr style=\"text-align: right;\">\n",
       "      <th></th>\n",
       "      <th>Bigram</th>\n",
       "      <th>Count</th>\n",
       "      <th>Add-One</th>\n",
       "      <th>Add-K</th>\n",
       "      <th>Token-Type</th>\n",
       "    </tr>\n",
       "  </thead>\n",
       "  <tbody>\n",
       "    <tr>\n",
       "      <th>0</th>\n",
       "      <td>&lt;sos&gt; इनेलो</td>\n",
       "      <td>224</td>\n",
       "      <td>0.000180</td>\n",
       "      <td>0.000358</td>\n",
       "      <td>7.985740e-07</td>\n",
       "    </tr>\n",
       "    <tr>\n",
       "      <th>1</th>\n",
       "      <td>इनेलो 1987</td>\n",
       "      <td>1</td>\n",
       "      <td>0.000002</td>\n",
       "      <td>0.000002</td>\n",
       "      <td>7.984319e-07</td>\n",
       "    </tr>\n",
       "    <tr>\n",
       "      <th>2</th>\n",
       "      <td>1987 में</td>\n",
       "      <td>550</td>\n",
       "      <td>0.000440</td>\n",
       "      <td>0.000877</td>\n",
       "      <td>7.987819e-07</td>\n",
       "    </tr>\n",
       "    <tr>\n",
       "      <th>3</th>\n",
       "      <td>में उस</td>\n",
       "      <td>2830</td>\n",
       "      <td>0.000420</td>\n",
       "      <td>0.000463</td>\n",
       "      <td>8.002325e-07</td>\n",
       "    </tr>\n",
       "    <tr>\n",
       "      <th>4</th>\n",
       "      <td>उस वक्त</td>\n",
       "      <td>7558</td>\n",
       "      <td>0.005587</td>\n",
       "      <td>0.010402</td>\n",
       "      <td>8.032494e-07</td>\n",
       "    </tr>\n",
       "  </tbody>\n",
       "</table>\n",
       "</div>"
      ],
      "text/plain": [
       "        Bigram  Count   Add-One     Add-K    Token-Type\n",
       "0  <sos> इनेलो    224  0.000180  0.000358  7.985740e-07\n",
       "1   इनेलो 1987      1  0.000002  0.000002  7.984319e-07\n",
       "2     1987 में    550  0.000440  0.000877  7.987819e-07\n",
       "3       में उस   2830  0.000420  0.000463  8.002325e-07\n",
       "4      उस वक्त   7558  0.005587  0.010402  8.032494e-07"
      ]
     },
     "execution_count": 4,
     "metadata": {},
     "output_type": "execute_result"
    }
   ],
   "source": [
    "dfbi.head()"
   ]
  },
  {
   "cell_type": "code",
   "execution_count": 9,
   "id": "99a7dcad",
   "metadata": {},
   "outputs": [
    {
     "data": {
      "text/plain": [
       "(16583799, 5)"
      ]
     },
     "execution_count": 9,
     "metadata": {},
     "output_type": "execute_result"
    }
   ],
   "source": [
    "dfbi.shape"
   ]
  },
  {
   "cell_type": "code",
   "execution_count": 6,
   "id": "ef04392d",
   "metadata": {},
   "outputs": [],
   "source": [
    "df=pd.read_csv(r\"C:\\Sahil\\NLP\\hindi_reconstructed_sentences2.csv\")"
   ]
  },
  {
   "cell_type": "code",
   "execution_count": 7,
   "id": "27c255a7",
   "metadata": {},
   "outputs": [
    {
     "data": {
      "text/html": [
       "<div>\n",
       "<style scoped>\n",
       "    .dataframe tbody tr th:only-of-type {\n",
       "        vertical-align: middle;\n",
       "    }\n",
       "\n",
       "    .dataframe tbody tr th {\n",
       "        vertical-align: top;\n",
       "    }\n",
       "\n",
       "    .dataframe thead th {\n",
       "        text-align: right;\n",
       "    }\n",
       "</style>\n",
       "<table border=\"1\" class=\"dataframe\">\n",
       "  <thead>\n",
       "    <tr style=\"text-align: right;\">\n",
       "      <th></th>\n",
       "      <th>reconstructed_sentence</th>\n",
       "    </tr>\n",
       "  </thead>\n",
       "  <tbody>\n",
       "    <tr>\n",
       "      <th>0</th>\n",
       "      <td>इनेलो  1987 में  उस  वक्त  ऐसे  ही  दोराहे  पर...</td>\n",
       "    </tr>\n",
       "    <tr>\n",
       "      <th>1</th>\n",
       "      <td>हालांकि  तब  पार्टी  पर  देवीलाल  की  मजबूत  प...</td>\n",
       "    </tr>\n",
       "    <tr>\n",
       "      <th>2</th>\n",
       "      <td>1989 में  देवीलाल  केन्द्र  की  राजनीति  में  ...</td>\n",
       "    </tr>\n",
       "    <tr>\n",
       "      <th>3</th>\n",
       "      <td>उन  परिस्थितियों  में  देवीलाल  ने  कड़ा  निर्...</td>\n",
       "    </tr>\n",
       "    <tr>\n",
       "      <th>4</th>\n",
       "      <td>उस  समय  रणजीत  की  नाराजगी  के  चलते  उनके  स...</td>\n",
       "    </tr>\n",
       "  </tbody>\n",
       "</table>\n",
       "</div>"
      ],
      "text/plain": [
       "                              reconstructed_sentence\n",
       "0  इनेलो  1987 में  उस  वक्त  ऐसे  ही  दोराहे  पर...\n",
       "1  हालांकि  तब  पार्टी  पर  देवीलाल  की  मजबूत  प...\n",
       "2  1989 में  देवीलाल  केन्द्र  की  राजनीति  में  ...\n",
       "3  उन  परिस्थितियों  में  देवीलाल  ने  कड़ा  निर्...\n",
       "4  उस  समय  रणजीत  की  नाराजगी  के  चलते  उनके  स..."
      ]
     },
     "execution_count": 7,
     "metadata": {},
     "output_type": "execute_result"
    }
   ],
   "source": [
    "df.head()"
   ]
  },
  {
   "cell_type": "code",
   "execution_count": 8,
   "id": "d7c17549",
   "metadata": {},
   "outputs": [
    {
     "data": {
      "text/plain": [
       "(10000000, 1)"
      ]
     },
     "execution_count": 8,
     "metadata": {},
     "output_type": "execute_result"
    }
   ],
   "source": [
    "df.shape"
   ]
  },
  {
   "cell_type": "code",
   "execution_count": 12,
   "id": "328a54e2",
   "metadata": {},
   "outputs": [],
   "source": [
    "# Fixing and saving The sample sentances So that we can Use it for all the models(unigram,bigram,trigram,quadgram)"
   ]
  },
  {
   "cell_type": "code",
   "execution_count": 10,
   "id": "d3601049",
   "metadata": {},
   "outputs": [],
   "source": [
    "sample_sentences = df.sample(n=1000, random_state=42).reset_index(drop=True)"
   ]
  },
  {
   "cell_type": "code",
   "execution_count": 30,
   "id": "3a141984",
   "metadata": {},
   "outputs": [],
   "source": [
    "sample_sentences.to_csv(r\"C:\\Sahil\\NLP\\sample.csv\", index=False)"
   ]
  },
  {
   "cell_type": "code",
   "execution_count": null,
   "id": "f3c25843",
   "metadata": {},
   "outputs": [
    {
     "name": "stdout",
     "output_type": "stream",
     "text": [
      "                                reconstructed_sentence\n",
      "0    उसे  तत्काल  ट्रेन  के  शौचालय  में  बंद  कर  ...\n",
      "1    ऐसे  ही  एक  कार्यक्रम  का  एक  वीडियो  सोशल  ...\n",
      "2    आरबीजीडी  की  टीम  ने  टास  जीत  कर  पहले  खेल...\n",
      "3    इससे  आम  आदमी  की  गाढ़ी  कमाई  को  फर्जी  और ...\n",
      "4    विधि  शिक्षा  एवं  विधि  सहायता  केन्द्र  सेंट...\n",
      "..                                                 ...\n",
      "995  पूर्व  निर्धारित  कार्यक्रम  के  तहत  शुक्रवार...\n",
      "996  सद्गुरु  स्वामीगल  ने  देवभूमि  उत्तराखंड  को ...\n",
      "997                                           टीकमगढ़ ।\n",
      "998  यह  ध्यान  रखने  की  बात  है  कि  रेलवे  द्वार...\n",
      "999  हिमपात  से  लेकर  रेतीली  आँधी  में  पानी  का ...\n",
      "\n",
      "[1000 rows x 1 columns]\n"
     ]
    }
   ],
   "source": [
    "print(sample_sentences) "
   ]
  },
  {
   "cell_type": "code",
   "execution_count": 11,
   "id": "aa696a99",
   "metadata": {},
   "outputs": [],
   "source": [
    "def get_bigrams(sentence):\n",
    "    words = sentence.strip().split()\n",
    "    words = [\"<sos>\"] + words + [\"<eos>\"]\n",
    "    return [f\"{words[i]} {words[i+1]}\" for i in range(len(words)-1)]"
   ]
  },
  {
   "cell_type": "code",
   "execution_count": 12,
   "id": "c1fb2bf1",
   "metadata": {},
   "outputs": [],
   "source": [
    "add_one_dict = dict(zip(dfbi['Bigram'], dfbi['Add-One']))\n",
    "add_k_dict = dict(zip(dfbi['Bigram'], dfbi['Add-K']))\n",
    "token_type_dict = dict(zip(dfbi['Bigram'], dfbi['Token-Type']))"
   ]
  },
  {
   "cell_type": "code",
   "execution_count": null,
   "id": "ba33edc5",
   "metadata": {},
   "outputs": [],
   "source": [
    "def sentence_probability(sentence, prob_dict):\n",
    "    bigrams = get_bigrams(sentence)\n",
    "    log_prob = 0.0\n",
    "    \n",
    "    for bg in bigrams:\n",
    "        if bg in prob_dict:\n",
    "            log_prob += np.log(prob_dict[bg])\n",
    "        else:\n",
    "            log_prob += np.log(1e-12)\n",
    "    return np.exp(log_prob)  \n"
   ]
  },
  {
   "cell_type": "code",
   "execution_count": 16,
   "id": "600440e1",
   "metadata": {},
   "outputs": [],
   "source": [
    "results = []\n",
    "\n",
    "for sent in sample_sentences['reconstructed_sentence']:\n",
    "    p_add_one = sentence_probability(sent, add_one_dict)\n",
    "    p_add_k = sentence_probability(sent, add_k_dict)\n",
    "    p_token_type = sentence_probability(sent, token_type_dict)\n",
    "    \n",
    "    results.append([sent, p_add_one, p_add_k, p_token_type])\n",
    "\n",
    "results_df = pd.DataFrame(results, columns=['Sentence', 'Add-One', 'Add-K', 'Token-Type'])\n"
   ]
  },
  {
   "cell_type": "code",
   "execution_count": 18,
   "id": "d7c97a3e",
   "metadata": {},
   "outputs": [
    {
     "data": {
      "text/html": [
       "<div>\n",
       "<style scoped>\n",
       "    .dataframe tbody tr th:only-of-type {\n",
       "        vertical-align: middle;\n",
       "    }\n",
       "\n",
       "    .dataframe tbody tr th {\n",
       "        vertical-align: top;\n",
       "    }\n",
       "\n",
       "    .dataframe thead th {\n",
       "        text-align: right;\n",
       "    }\n",
       "</style>\n",
       "<table border=\"1\" class=\"dataframe\">\n",
       "  <thead>\n",
       "    <tr style=\"text-align: right;\">\n",
       "      <th></th>\n",
       "      <th>Sentence</th>\n",
       "      <th>Add-One</th>\n",
       "      <th>Add-K</th>\n",
       "      <th>Token-Type</th>\n",
       "    </tr>\n",
       "  </thead>\n",
       "  <tbody>\n",
       "    <tr>\n",
       "      <th>0</th>\n",
       "      <td>उसे  तत्काल  ट्रेन  के  शौचालय  में  बंद  कर  ...</td>\n",
       "      <td>5.108519e-73</td>\n",
       "      <td>3.743680e-68</td>\n",
       "      <td>4.756580e-146</td>\n",
       "    </tr>\n",
       "    <tr>\n",
       "      <th>1</th>\n",
       "      <td>ऐसे  ही  एक  कार्यक्रम  का  एक  वीडियो  सोशल  ...</td>\n",
       "      <td>5.896634e-30</td>\n",
       "      <td>4.154974e-27</td>\n",
       "      <td>8.973592e-91</td>\n",
       "    </tr>\n",
       "    <tr>\n",
       "      <th>2</th>\n",
       "      <td>आरबीजीडी  की  टीम  ने  टास  जीत  कर  पहले  खेल...</td>\n",
       "      <td>2.469219e-71</td>\n",
       "      <td>5.484179e-67</td>\n",
       "      <td>6.861254e-128</td>\n",
       "    </tr>\n",
       "    <tr>\n",
       "      <th>3</th>\n",
       "      <td>इससे  आम  आदमी  की  गाढ़ी  कमाई  को  फर्जी  और ...</td>\n",
       "      <td>1.530544e-61</td>\n",
       "      <td>7.968936e-58</td>\n",
       "      <td>3.853505e-121</td>\n",
       "    </tr>\n",
       "    <tr>\n",
       "      <th>4</th>\n",
       "      <td>विधि  शिक्षा  एवं  विधि  सहायता  केन्द्र  सेंट...</td>\n",
       "      <td>4.295161e-137</td>\n",
       "      <td>8.160860e-129</td>\n",
       "      <td>4.408617e-231</td>\n",
       "    </tr>\n",
       "    <tr>\n",
       "      <th>...</th>\n",
       "      <td>...</td>\n",
       "      <td>...</td>\n",
       "      <td>...</td>\n",
       "      <td>...</td>\n",
       "    </tr>\n",
       "    <tr>\n",
       "      <th>995</th>\n",
       "      <td>पूर्व  निर्धारित  कार्यक्रम  के  तहत  शुक्रवार...</td>\n",
       "      <td>1.841549e-67</td>\n",
       "      <td>2.977064e-62</td>\n",
       "      <td>4.329510e-152</td>\n",
       "    </tr>\n",
       "    <tr>\n",
       "      <th>996</th>\n",
       "      <td>सद्गुरु  स्वामीगल  ने  देवभूमि  उत्तराखंड  को ...</td>\n",
       "      <td>8.310328e-89</td>\n",
       "      <td>1.083985e-84</td>\n",
       "      <td>5.550315e-134</td>\n",
       "    </tr>\n",
       "    <tr>\n",
       "      <th>997</th>\n",
       "      <td>टीकमगढ़ ।</td>\n",
       "      <td>1.062419e-08</td>\n",
       "      <td>4.530683e-08</td>\n",
       "      <td>3.656954e-18</td>\n",
       "    </tr>\n",
       "    <tr>\n",
       "      <th>998</th>\n",
       "      <td>यह  ध्यान  रखने  की  बात  है  कि  रेलवे  द्वार...</td>\n",
       "      <td>2.684027e-58</td>\n",
       "      <td>1.589712e-54</td>\n",
       "      <td>5.259317e-121</td>\n",
       "    </tr>\n",
       "    <tr>\n",
       "      <th>999</th>\n",
       "      <td>हिमपात  से  लेकर  रेतीली  आँधी  में  पानी  का ...</td>\n",
       "      <td>3.165170e-106</td>\n",
       "      <td>1.054497e-101</td>\n",
       "      <td>4.715470e-170</td>\n",
       "    </tr>\n",
       "  </tbody>\n",
       "</table>\n",
       "<p>1000 rows × 4 columns</p>\n",
       "</div>"
      ],
      "text/plain": [
       "                                              Sentence        Add-One  \\\n",
       "0    उसे  तत्काल  ट्रेन  के  शौचालय  में  बंद  कर  ...   5.108519e-73   \n",
       "1    ऐसे  ही  एक  कार्यक्रम  का  एक  वीडियो  सोशल  ...   5.896634e-30   \n",
       "2    आरबीजीडी  की  टीम  ने  टास  जीत  कर  पहले  खेल...   2.469219e-71   \n",
       "3    इससे  आम  आदमी  की  गाढ़ी  कमाई  को  फर्जी  और ...   1.530544e-61   \n",
       "4    विधि  शिक्षा  एवं  विधि  सहायता  केन्द्र  सेंट...  4.295161e-137   \n",
       "..                                                 ...            ...   \n",
       "995  पूर्व  निर्धारित  कार्यक्रम  के  तहत  शुक्रवार...   1.841549e-67   \n",
       "996  सद्गुरु  स्वामीगल  ने  देवभूमि  उत्तराखंड  को ...   8.310328e-89   \n",
       "997                                           टीकमगढ़ ।   1.062419e-08   \n",
       "998  यह  ध्यान  रखने  की  बात  है  कि  रेलवे  द्वार...   2.684027e-58   \n",
       "999  हिमपात  से  लेकर  रेतीली  आँधी  में  पानी  का ...  3.165170e-106   \n",
       "\n",
       "             Add-K     Token-Type  \n",
       "0     3.743680e-68  4.756580e-146  \n",
       "1     4.154974e-27   8.973592e-91  \n",
       "2     5.484179e-67  6.861254e-128  \n",
       "3     7.968936e-58  3.853505e-121  \n",
       "4    8.160860e-129  4.408617e-231  \n",
       "..             ...            ...  \n",
       "995   2.977064e-62  4.329510e-152  \n",
       "996   1.083985e-84  5.550315e-134  \n",
       "997   4.530683e-08   3.656954e-18  \n",
       "998   1.589712e-54  5.259317e-121  \n",
       "999  1.054497e-101  4.715470e-170  \n",
       "\n",
       "[1000 rows x 4 columns]"
      ]
     },
     "execution_count": 18,
     "metadata": {},
     "output_type": "execute_result"
    }
   ],
   "source": [
    "results_df"
   ]
  },
  {
   "cell_type": "code",
   "execution_count": null,
   "id": "40aea531",
   "metadata": {},
   "outputs": [],
   "source": [
    "results_df.to_csv(r\"C:\\Sahil\\NLP\\Bigram1000senProb.csv\", index=False)"
   ]
  },
  {
   "cell_type": "code",
   "execution_count": null,
   "id": "9bc6eebe",
   "metadata": {},
   "outputs": [],
   "source": [
    "dfquad=pd.read_csv(r\"C:\\\\sahil\\NLP\\quadgram_probabilities.csv\")"
   ]
  },
  {
   "cell_type": "code",
   "execution_count": 22,
   "id": "1d1e7f15",
   "metadata": {},
   "outputs": [
    {
     "data": {
      "text/html": [
       "<div>\n",
       "<style scoped>\n",
       "    .dataframe tbody tr th:only-of-type {\n",
       "        vertical-align: middle;\n",
       "    }\n",
       "\n",
       "    .dataframe tbody tr th {\n",
       "        vertical-align: top;\n",
       "    }\n",
       "\n",
       "    .dataframe thead th {\n",
       "        text-align: right;\n",
       "    }\n",
       "</style>\n",
       "<table border=\"1\" class=\"dataframe\">\n",
       "  <thead>\n",
       "    <tr style=\"text-align: right;\">\n",
       "      <th></th>\n",
       "      <th>Quadgram</th>\n",
       "      <th>Count</th>\n",
       "      <th>Add-One</th>\n",
       "      <th>Add-K</th>\n",
       "      <th>Token-Type</th>\n",
       "    </tr>\n",
       "  </thead>\n",
       "  <tbody>\n",
       "    <tr>\n",
       "      <th>0</th>\n",
       "      <td>&lt;sos&gt; &lt;sos&gt; &lt;sos&gt; इनेलो</td>\n",
       "      <td>224</td>\n",
       "      <td>3.763024e-06</td>\n",
       "      <td>7.509323e-06</td>\n",
       "      <td>1.672461e-08</td>\n",
       "    </tr>\n",
       "    <tr>\n",
       "      <th>1</th>\n",
       "      <td>&lt;sos&gt; &lt;sos&gt; इनेलो 1987</td>\n",
       "      <td>1</td>\n",
       "      <td>3.344898e-08</td>\n",
       "      <td>5.017328e-08</td>\n",
       "      <td>1.672455e-08</td>\n",
       "    </tr>\n",
       "    <tr>\n",
       "      <th>2</th>\n",
       "      <td>&lt;sos&gt; इनेलो 1987 में</td>\n",
       "      <td>1</td>\n",
       "      <td>3.344910e-08</td>\n",
       "      <td>5.017365e-08</td>\n",
       "      <td>1.672455e-08</td>\n",
       "    </tr>\n",
       "    <tr>\n",
       "      <th>3</th>\n",
       "      <td>इनेलो 1987 में उस</td>\n",
       "      <td>1</td>\n",
       "      <td>3.344910e-08</td>\n",
       "      <td>5.017365e-08</td>\n",
       "      <td>1.672455e-08</td>\n",
       "    </tr>\n",
       "    <tr>\n",
       "      <th>4</th>\n",
       "      <td>1987 में उस वक्त</td>\n",
       "      <td>2</td>\n",
       "      <td>5.017365e-08</td>\n",
       "      <td>8.362274e-08</td>\n",
       "      <td>1.672455e-08</td>\n",
       "    </tr>\n",
       "  </tbody>\n",
       "</table>\n",
       "</div>"
      ],
      "text/plain": [
       "                  Quadgram  Count       Add-One         Add-K    Token-Type\n",
       "0  <sos> <sos> <sos> इनेलो    224  3.763024e-06  7.509323e-06  1.672461e-08\n",
       "1   <sos> <sos> इनेलो 1987      1  3.344898e-08  5.017328e-08  1.672455e-08\n",
       "2     <sos> इनेलो 1987 में      1  3.344910e-08  5.017365e-08  1.672455e-08\n",
       "3        इनेलो 1987 में उस      1  3.344910e-08  5.017365e-08  1.672455e-08\n",
       "4         1987 में उस वक्त      2  5.017365e-08  8.362274e-08  1.672455e-08"
      ]
     },
     "execution_count": 22,
     "metadata": {},
     "output_type": "execute_result"
    }
   ],
   "source": [
    "dfquad.head()"
   ]
  },
  {
   "cell_type": "code",
   "execution_count": 2,
   "id": "1660de81",
   "metadata": {},
   "outputs": [],
   "source": [
    "def get_quadgrams(sentence):\n",
    "    words = sentence.strip().split()\n",
    "    words = [\"<sos>\", \"<sos>\", \"<sos>\"] + words + [\"<eos>\"]\n",
    "    return [\" \".join(words[i:i+4]) for i in range(len(words)-3)]"
   ]
  },
  {
   "cell_type": "code",
   "execution_count": 5,
   "id": "f124ed39",
   "metadata": {},
   "outputs": [],
   "source": [
    "quad_add_one_dict = dict(zip(dfquad['Quadgram'], dfquad['Add-One']))"
   ]
  },
  {
   "cell_type": "code",
   "execution_count": 6,
   "id": "49a37e56",
   "metadata": {},
   "outputs": [],
   "source": [
    "\n",
    "quad_add_k_dict = dict(zip(dfquad['Quadgram'], dfquad['Add-K']))\n",
    "\n"
   ]
  },
  {
   "cell_type": "code",
   "execution_count": 3,
   "id": "4a6b645c",
   "metadata": {},
   "outputs": [],
   "source": [
    "quad_token_type_dict = dict(zip(dfquad['Quadgram'], dfquad['Token-Type']))"
   ]
  },
  {
   "cell_type": "code",
   "execution_count": 27,
   "id": "99477a8c",
   "metadata": {},
   "outputs": [],
   "source": [
    "del quad_token_type_dict"
   ]
  },
  {
   "cell_type": "code",
   "execution_count": 4,
   "id": "db7af368",
   "metadata": {},
   "outputs": [],
   "source": [
    "def quad_sentence_probability(sentence, prob_dict):\n",
    "    quadgrams = get_quadgrams(sentence)\n",
    "    log_prob = 0.0\n",
    "    \n",
    "    for qg in quadgrams:\n",
    "        if qg in prob_dict:\n",
    "            log_prob += np.log(prob_dict[qg])\n",
    "        else:\n",
    "            log_prob += np.log(1e-12)  \n",
    "    \n",
    "    return np.exp(log_prob)"
   ]
  },
  {
   "cell_type": "code",
   "execution_count": 10,
   "id": "613d9dfb",
   "metadata": {},
   "outputs": [],
   "source": [
    "quad_results = []\n",
    "df_sample_sentences = pd.read_csv(r\"C:\\Sahil\\NLP\\sample.csv\")\n",
    "for sent in df_sample_sentences['reconstructed_sentence']:\n",
    "    \n",
    "    p_quad_token_type = quad_sentence_probability(sent, quad_token_type_dict)\n",
    "    \n",
    "    quad_results.append([p_quad_token_type])\n",
    "\n",
    "quad_results_df = pd.DataFrame(quad_results, \n",
    "                               columns=[\"p_quad_token_type\"])\n"
   ]
  },
  {
   "cell_type": "code",
   "execution_count": 11,
   "id": "bdfc55f5",
   "metadata": {},
   "outputs": [],
   "source": [
    "quad_results_df.to_csv(r\"C:\\Sahil\\NLP\\quadgram1000senProb_OnemO.csv\", index=False)"
   ]
  },
  {
   "cell_type": "code",
   "execution_count": 14,
   "id": "a0b1b48b",
   "metadata": {},
   "outputs": [],
   "source": [
    "df_quad=pd.read_csv(\"C:\\\\Sahil\\\\NLP\\\\quadgram1000senProb_OnemO.csv\")"
   ]
  },
  {
   "cell_type": "code",
   "execution_count": 21,
   "id": "6a0ea4e6",
   "metadata": {},
   "outputs": [],
   "source": [
    "df_quad_ff=pd.read_csv(\"C:\\\\Sahil\\\\NLP\\\\quadgram1000senProb.csv\")"
   ]
  },
  {
   "cell_type": "code",
   "execution_count": 20,
   "id": "f44e912a",
   "metadata": {},
   "outputs": [
    {
     "data": {
      "text/html": [
       "<div>\n",
       "<style scoped>\n",
       "    .dataframe tbody tr th:only-of-type {\n",
       "        vertical-align: middle;\n",
       "    }\n",
       "\n",
       "    .dataframe tbody tr th {\n",
       "        vertical-align: top;\n",
       "    }\n",
       "\n",
       "    .dataframe thead th {\n",
       "        text-align: right;\n",
       "    }\n",
       "</style>\n",
       "<table border=\"1\" class=\"dataframe\">\n",
       "  <thead>\n",
       "    <tr style=\"text-align: right;\">\n",
       "      <th></th>\n",
       "      <th>p_quad_token_type</th>\n",
       "    </tr>\n",
       "  </thead>\n",
       "  <tbody>\n",
       "    <tr>\n",
       "      <th>0</th>\n",
       "      <td>2.294140e-187</td>\n",
       "    </tr>\n",
       "    <tr>\n",
       "      <th>1</th>\n",
       "      <td>2.243516e-117</td>\n",
       "    </tr>\n",
       "    <tr>\n",
       "      <th>2</th>\n",
       "      <td>4.902851e-164</td>\n",
       "    </tr>\n",
       "    <tr>\n",
       "      <th>3</th>\n",
       "      <td>2.947975e-156</td>\n",
       "    </tr>\n",
       "    <tr>\n",
       "      <th>4</th>\n",
       "      <td>3.077245e-296</td>\n",
       "    </tr>\n",
       "  </tbody>\n",
       "</table>\n",
       "</div>"
      ],
      "text/plain": [
       "   p_quad_token_type\n",
       "0      2.294140e-187\n",
       "1      2.243516e-117\n",
       "2      4.902851e-164\n",
       "3      2.947975e-156\n",
       "4      3.077245e-296"
      ]
     },
     "execution_count": 20,
     "metadata": {},
     "output_type": "execute_result"
    }
   ],
   "source": [
    "df_quad.head()"
   ]
  },
  {
   "cell_type": "code",
   "execution_count": 22,
   "id": "116aa593",
   "metadata": {},
   "outputs": [
    {
     "data": {
      "text/html": [
       "<div>\n",
       "<style scoped>\n",
       "    .dataframe tbody tr th:only-of-type {\n",
       "        vertical-align: middle;\n",
       "    }\n",
       "\n",
       "    .dataframe tbody tr th {\n",
       "        vertical-align: top;\n",
       "    }\n",
       "\n",
       "    .dataframe thead th {\n",
       "        text-align: right;\n",
       "    }\n",
       "</style>\n",
       "<table border=\"1\" class=\"dataframe\">\n",
       "  <thead>\n",
       "    <tr style=\"text-align: right;\">\n",
       "      <th></th>\n",
       "      <th>Sentence</th>\n",
       "      <th>Quad-Add-One</th>\n",
       "      <th>Quad-Add-K</th>\n",
       "    </tr>\n",
       "  </thead>\n",
       "  <tbody>\n",
       "    <tr>\n",
       "      <th>0</th>\n",
       "      <td>उसे  तत्काल  ट्रेन  के  शौचालय  में  बंद  कर  ...</td>\n",
       "      <td>8.387939e-160</td>\n",
       "      <td>3.369631e-154</td>\n",
       "    </tr>\n",
       "    <tr>\n",
       "      <th>1</th>\n",
       "      <td>ऐसे  ही  एक  कार्यक्रम  का  एक  वीडियो  सोशल  ...</td>\n",
       "      <td>7.309070e-84</td>\n",
       "      <td>1.104585e-79</td>\n",
       "    </tr>\n",
       "    <tr>\n",
       "      <th>2</th>\n",
       "      <td>आरबीजीडी  की  टीम  ने  टास  जीत  कर  पहले  खेल...</td>\n",
       "      <td>3.055775e-142</td>\n",
       "      <td>6.488954e-137</td>\n",
       "    </tr>\n",
       "    <tr>\n",
       "      <th>3</th>\n",
       "      <td>इससे  आम  आदमी  की  गाढ़ी  कमाई  को  फर्जी  और ...</td>\n",
       "      <td>8.099319e-131</td>\n",
       "      <td>2.442193e-126</td>\n",
       "    </tr>\n",
       "    <tr>\n",
       "      <th>4</th>\n",
       "      <td>विधि  शिक्षा  एवं  विधि  सहायता  केन्द्र  सेंट...</td>\n",
       "      <td>4.390222e-253</td>\n",
       "      <td>1.739057e-244</td>\n",
       "    </tr>\n",
       "  </tbody>\n",
       "</table>\n",
       "</div>"
      ],
      "text/plain": [
       "                                            Sentence   Quad-Add-One  \\\n",
       "0  उसे  तत्काल  ट्रेन  के  शौचालय  में  बंद  कर  ...  8.387939e-160   \n",
       "1  ऐसे  ही  एक  कार्यक्रम  का  एक  वीडियो  सोशल  ...   7.309070e-84   \n",
       "2  आरबीजीडी  की  टीम  ने  टास  जीत  कर  पहले  खेल...  3.055775e-142   \n",
       "3  इससे  आम  आदमी  की  गाढ़ी  कमाई  को  फर्जी  और ...  8.099319e-131   \n",
       "4  विधि  शिक्षा  एवं  विधि  सहायता  केन्द्र  सेंट...  4.390222e-253   \n",
       "\n",
       "      Quad-Add-K  \n",
       "0  3.369631e-154  \n",
       "1   1.104585e-79  \n",
       "2  6.488954e-137  \n",
       "3  2.442193e-126  \n",
       "4  1.739057e-244  "
      ]
     },
     "execution_count": 22,
     "metadata": {},
     "output_type": "execute_result"
    }
   ],
   "source": [
    "df_quad_ff.head()"
   ]
  },
  {
   "cell_type": "code",
   "execution_count": null,
   "id": "5e6a713c",
   "metadata": {},
   "outputs": [],
   "source": [
    "df_quad_ff[\"p_quad_token_type\"] = df_quad[\"p_quad_token_type\"].values\n"
   ]
  },
  {
   "cell_type": "code",
   "execution_count": 24,
   "id": "1113d619",
   "metadata": {},
   "outputs": [],
   "source": [
    "df_quad_ff.to_csv(r\"C:\\Sahil\\NLP\\quadgram1000senProb.csv\", index=False)"
   ]
  },
  {
   "cell_type": "code",
   "execution_count": 28,
   "id": "b3ef0a8c",
   "metadata": {},
   "outputs": [],
   "source": [
    "df_uni=pd.read_csv(r\"C:\\\\sahil\\NLP\\unigram_probabilities.csv\")"
   ]
  },
  {
   "cell_type": "code",
   "execution_count": 29,
   "id": "d0d046a7",
   "metadata": {},
   "outputs": [
    {
     "data": {
      "text/html": [
       "<div>\n",
       "<style scoped>\n",
       "    .dataframe tbody tr th:only-of-type {\n",
       "        vertical-align: middle;\n",
       "    }\n",
       "\n",
       "    .dataframe tbody tr th {\n",
       "        vertical-align: top;\n",
       "    }\n",
       "\n",
       "    .dataframe thead th {\n",
       "        text-align: right;\n",
       "    }\n",
       "</style>\n",
       "<table border=\"1\" class=\"dataframe\">\n",
       "  <thead>\n",
       "    <tr style=\"text-align: right;\">\n",
       "      <th></th>\n",
       "      <th>Word</th>\n",
       "      <th>Count</th>\n",
       "      <th>Add-One</th>\n",
       "      <th>Add-K</th>\n",
       "      <th>Token-Type</th>\n",
       "    </tr>\n",
       "  </thead>\n",
       "  <tbody>\n",
       "    <tr>\n",
       "      <th>0</th>\n",
       "      <td>इनेलो</td>\n",
       "      <td>971</td>\n",
       "      <td>0.000005</td>\n",
       "      <td>0.000005</td>\n",
       "      <td>7.989484e-07</td>\n",
       "    </tr>\n",
       "    <tr>\n",
       "      <th>1</th>\n",
       "      <td>1987</td>\n",
       "      <td>1127</td>\n",
       "      <td>0.000006</td>\n",
       "      <td>0.000006</td>\n",
       "      <td>7.990478e-07</td>\n",
       "    </tr>\n",
       "    <tr>\n",
       "      <th>2</th>\n",
       "      <td>में</td>\n",
       "      <td>5487609</td>\n",
       "      <td>0.027267</td>\n",
       "      <td>0.027352</td>\n",
       "      <td>4.296193e-06</td>\n",
       "    </tr>\n",
       "    <tr>\n",
       "      <th>3</th>\n",
       "      <td>उस</td>\n",
       "      <td>100409</td>\n",
       "      <td>0.000499</td>\n",
       "      <td>0.000500</td>\n",
       "      <td>8.623313e-07</td>\n",
       "    </tr>\n",
       "    <tr>\n",
       "      <th>4</th>\n",
       "      <td>वक्त</td>\n",
       "      <td>35995</td>\n",
       "      <td>0.000179</td>\n",
       "      <td>0.000179</td>\n",
       "      <td>8.212731e-07</td>\n",
       "    </tr>\n",
       "  </tbody>\n",
       "</table>\n",
       "</div>"
      ],
      "text/plain": [
       "    Word    Count   Add-One     Add-K    Token-Type\n",
       "0  इनेलो      971  0.000005  0.000005  7.989484e-07\n",
       "1   1987     1127  0.000006  0.000006  7.990478e-07\n",
       "2    में  5487609  0.027267  0.027352  4.296193e-06\n",
       "3     उस   100409  0.000499  0.000500  8.623313e-07\n",
       "4   वक्त    35995  0.000179  0.000179  8.212731e-07"
      ]
     },
     "execution_count": 29,
     "metadata": {},
     "output_type": "execute_result"
    }
   ],
   "source": [
    "df_uni.head()"
   ]
  },
  {
   "cell_type": "code",
   "execution_count": 30,
   "id": "2e998a9f",
   "metadata": {},
   "outputs": [],
   "source": [
    "uni_add_one_dict = dict(zip(df_uni['Word'], df_uni['Add-One']))\n",
    "uni_add_k_dict = dict(zip(df_uni['Word'], df_uni['Add-K']))\n",
    "uni_token_type_dict = dict(zip(df_uni['Word'], df_uni['Token-Type']))"
   ]
  },
  {
   "cell_type": "code",
   "execution_count": 31,
   "id": "48724d79",
   "metadata": {},
   "outputs": [],
   "source": [
    "def unigram_sentence_probability(sentence, prob_dict):\n",
    "    unigrams = sentence.split()   \n",
    "    log_prob = 0.0\n",
    "\n",
    "    for ug in unigrams:\n",
    "        if ug in prob_dict:\n",
    "            log_prob += np.log(prob_dict[ug])\n",
    "        else:\n",
    "            log_prob += np.log(1e-12)  \n",
    "\n",
    "    return np.exp(log_prob)\n"
   ]
  },
  {
   "cell_type": "code",
   "execution_count": 35,
   "id": "d988a1a8",
   "metadata": {},
   "outputs": [],
   "source": [
    "uni_results = []\n",
    "df_sample_sentences = pd.read_csv(r\"C:\\Sahil\\NLP\\sample.csv\")\n",
    "for sent in df_sample_sentences['reconstructed_sentence']:\n",
    "    p_add_one = unigram_sentence_probability(sent, uni_add_one_dict)\n",
    "    p_add_k = unigram_sentence_probability(sent, uni_add_k_dict)\n",
    "    p_token_type = unigram_sentence_probability(sent, uni_token_type_dict)\n",
    "    \n",
    "    uni_results.append([sent, p_add_one, p_add_k, p_token_type])\n",
    "\n",
    "uni_df = pd.DataFrame(uni_results, \n",
    "                               columns=['Sentence', 'Add-One', 'Add-K', 'Token-Type'])"
   ]
  },
  {
   "cell_type": "code",
   "execution_count": 36,
   "id": "3416cd4e",
   "metadata": {},
   "outputs": [],
   "source": [
    "uni_df.to_csv(r\"C:\\Sahil\\NLP\\unigram1000senProb.csv\", index=False)"
   ]
  },
  {
   "cell_type": "code",
   "execution_count": 3,
   "id": "f223001d",
   "metadata": {},
   "outputs": [],
   "source": [
    "df_tri=pd.read_csv(r\"C:\\\\sahil\\NLP\\trigram_probabilities.csv\")"
   ]
  },
  {
   "cell_type": "code",
   "execution_count": 4,
   "id": "1805920a",
   "metadata": {},
   "outputs": [
    {
     "data": {
      "text/html": [
       "<div>\n",
       "<style scoped>\n",
       "    .dataframe tbody tr th:only-of-type {\n",
       "        vertical-align: middle;\n",
       "    }\n",
       "\n",
       "    .dataframe tbody tr th {\n",
       "        vertical-align: top;\n",
       "    }\n",
       "\n",
       "    .dataframe thead th {\n",
       "        text-align: right;\n",
       "    }\n",
       "</style>\n",
       "<table border=\"1\" class=\"dataframe\">\n",
       "  <thead>\n",
       "    <tr style=\"text-align: right;\">\n",
       "      <th></th>\n",
       "      <th>Trigram</th>\n",
       "      <th>Count</th>\n",
       "      <th>Add-One</th>\n",
       "      <th>Add-K</th>\n",
       "      <th>Token-Type</th>\n",
       "    </tr>\n",
       "  </thead>\n",
       "  <tbody>\n",
       "    <tr>\n",
       "      <th>0</th>\n",
       "      <td>&lt;sos&gt; &lt;sos&gt; इनेलो</td>\n",
       "      <td>224</td>\n",
       "      <td>1.356746e-05</td>\n",
       "      <td>2.707462e-05</td>\n",
       "      <td>6.030063e-08</td>\n",
       "    </tr>\n",
       "    <tr>\n",
       "      <th>1</th>\n",
       "      <td>&lt;sos&gt; इनेलो 1987</td>\n",
       "      <td>1</td>\n",
       "      <td>1.205980e-07</td>\n",
       "      <td>1.808946e-07</td>\n",
       "      <td>6.029982e-08</td>\n",
       "    </tr>\n",
       "    <tr>\n",
       "      <th>2</th>\n",
       "      <td>इनेलो 1987 में</td>\n",
       "      <td>1</td>\n",
       "      <td>1.205996e-07</td>\n",
       "      <td>1.808994e-07</td>\n",
       "      <td>6.029982e-08</td>\n",
       "    </tr>\n",
       "    <tr>\n",
       "      <th>3</th>\n",
       "      <td>1987 में उस</td>\n",
       "      <td>3</td>\n",
       "      <td>2.411913e-07</td>\n",
       "      <td>4.220707e-07</td>\n",
       "      <td>6.029983e-08</td>\n",
       "    </tr>\n",
       "    <tr>\n",
       "      <th>4</th>\n",
       "      <td>में उस वक्त</td>\n",
       "      <td>392</td>\n",
       "      <td>2.369378e-05</td>\n",
       "      <td>4.731920e-05</td>\n",
       "      <td>6.030124e-08</td>\n",
       "    </tr>\n",
       "  </tbody>\n",
       "</table>\n",
       "</div>"
      ],
      "text/plain": [
       "             Trigram  Count       Add-One         Add-K    Token-Type\n",
       "0  <sos> <sos> इनेलो    224  1.356746e-05  2.707462e-05  6.030063e-08\n",
       "1   <sos> इनेलो 1987      1  1.205980e-07  1.808946e-07  6.029982e-08\n",
       "2     इनेलो 1987 में      1  1.205996e-07  1.808994e-07  6.029982e-08\n",
       "3        1987 में उस      3  2.411913e-07  4.220707e-07  6.029983e-08\n",
       "4        में उस वक्त    392  2.369378e-05  4.731920e-05  6.030124e-08"
      ]
     },
     "execution_count": 4,
     "metadata": {},
     "output_type": "execute_result"
    }
   ],
   "source": [
    "df_tri.head()"
   ]
  },
  {
   "cell_type": "code",
   "execution_count": 6,
   "id": "ca1cfedc",
   "metadata": {},
   "outputs": [],
   "source": [
    "tri_add_one_dict = dict(zip(df_tri['Trigram'], df_tri['Add-One']))\n",
    "tri_add_k_dict = dict(zip(df_tri['Trigram'], df_tri['Add-K']))\n",
    "tri_token_type_dict = dict(zip(df_tri['Trigram'], df_tri['Token-Type']))"
   ]
  },
  {
   "cell_type": "code",
   "execution_count": 7,
   "id": "6f5b716f",
   "metadata": {},
   "outputs": [],
   "source": [
    "def trigram_sentence_probability(sentence, prob_dict):\n",
    "    words = sentence.split()\n",
    "   \n",
    "    words = [\"<sos>\", \"<sos>\"] + words + [\"<eos>\"]\n",
    "\n",
    "    trigrams = [tuple(words[i:i+3]) for i in range(len(words)-2)]\n",
    "    \n",
    "    log_prob = 0.0\n",
    "    for tg in trigrams:\n",
    "        if tg in prob_dict:\n",
    "            log_prob += np.log(prob_dict[tg])\n",
    "        else:\n",
    "            log_prob += np.log(1e-12)  \n",
    "    \n",
    "    return np.exp(log_prob)\n"
   ]
  },
  {
   "cell_type": "code",
   "execution_count": 9,
   "id": "5fa4f7ea",
   "metadata": {},
   "outputs": [],
   "source": [
    "tri_results = []\n",
    "df_sample_sentences = pd.read_csv(r\"C:\\Sahil\\NLP\\sample.csv\")\n",
    "for sent in df_sample_sentences['reconstructed_sentence']:\n",
    "    p_add_one = trigram_sentence_probability(sent, tri_add_one_dict)\n",
    "    p_add_k = trigram_sentence_probability(sent, tri_add_k_dict)\n",
    "    p_token_type = trigram_sentence_probability(sent, tri_token_type_dict)\n",
    "    \n",
    "    tri_results.append([sent, p_add_one, p_add_k, p_token_type])\n",
    "\n",
    "tri_df = pd.DataFrame(tri_results, \n",
    "                               columns=['Sentence', 'Add-One', 'Add-K', 'Token-Type'])"
   ]
  },
  {
   "cell_type": "code",
   "execution_count": 10,
   "id": "84c95516",
   "metadata": {},
   "outputs": [],
   "source": [
    "tri_df.to_csv(r\"C:\\Sahil\\NLP\\trigram1000senProb.csv\", index=False)"
   ]
  }
 ],
 "metadata": {
  "kernelspec": {
   "display_name": "base",
   "language": "python",
   "name": "python3"
  },
  "language_info": {
   "codemirror_mode": {
    "name": "ipython",
    "version": 3
   },
   "file_extension": ".py",
   "mimetype": "text/x-python",
   "name": "python",
   "nbconvert_exporter": "python",
   "pygments_lexer": "ipython3",
   "version": "3.13.5"
  }
 },
 "nbformat": 4,
 "nbformat_minor": 5
}
