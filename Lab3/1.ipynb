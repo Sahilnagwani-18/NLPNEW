{
 "cells": [
  {
   "cell_type": "code",
   "execution_count": 5,
   "id": "92bcf779",
   "metadata": {},
   "outputs": [],
   "source": [
    "import math"
   ]
  },
  {
   "cell_type": "code",
   "execution_count": 6,
   "id": "e1980b1a",
   "metadata": {},
   "outputs": [],
   "source": [
    "input_file=\"brown_nouns.txt\""
   ]
  },
  {
   "cell_type": "markdown",
   "id": "e01917d4",
   "metadata": {},
   "source": [
    "## working stemming"
   ]
  },
  {
   "cell_type": "code",
   "execution_count": 7,
   "id": "873c8a83",
   "metadata": {},
   "outputs": [
    {
     "name": "stdout",
     "output_type": "stream",
     "text": [
      " Prefix Trie Splits written\n",
      "\n",
      "Suffix Trie Splits written\n"
     ]
    }
   ],
   "source": [
    "def make_node():\n",
    "    return {\"count\": 0, \"children\": {}}\n",
    "\n",
    "def insert_word(trie, word):\n",
    "    node = trie\n",
    "    node[\"count\"] += 1\n",
    "    for ch in word:\n",
    "        if ch not in node[\"children\"]:\n",
    "            node[\"children\"][ch] = make_node()\n",
    "        node = node[\"children\"][ch]\n",
    "        node[\"count\"] += 1\n",
    "\n",
    "def build_trie(words, suffix=False):\n",
    "    root = make_node()\n",
    "    for word in words:\n",
    "        w = word[::-1] if suffix else word\n",
    "        insert_word(root, w)\n",
    "    return root\n",
    "\n",
    "def find_split(word, trie, suffix=False):\n",
    "    node = trie\n",
    "    best_split = 0\n",
    "    max_branch = 0\n",
    "    chars = word[::-1] if suffix else word\n",
    "\n",
    "    for i, ch in enumerate(chars):\n",
    "        if ch not in node[\"children\"]:\n",
    "            break\n",
    "        node = node[\"children\"][ch]\n",
    "        # branching factor\n",
    "        if len(node[\"children\"]) > max_branch:\n",
    "            max_branch = len(node[\"children\"])\n",
    "            best_split = i + 1\n",
    "\n",
    "    if suffix:\n",
    "        stem = word[:-best_split] if best_split > 0 else word\n",
    "        suff = word[-best_split:] if best_split > 0 else \"\"\n",
    "    else:\n",
    "        stem = word[:best_split] if best_split > 0 else word\n",
    "        suff = word[best_split:] if best_split > 0 else \"\"\n",
    "\n",
    "    return stem, suff\n",
    "\n",
    "\n",
    "\n",
    "# ================= MAIN ==================\n",
    "with open(input_file) as f:\n",
    "    words = [w.strip() for w in f if w.strip()]\n",
    "\n",
    "prefix_trie = build_trie(words, suffix=False)\n",
    "suffix_trie = build_trie(words, suffix=True)\n",
    "\n",
    "with open(\"Prefix Trie Splits.txt\",\"w\") as f:\n",
    "    for w in words[:]:\n",
    "        stem, suff = find_split(w, prefix_trie, suffix=False)\n",
    "        f.write(f\"{w} = {stem}+{suff}\\n\")\n",
    "print(\" Prefix Trie Splits written\")\n",
    "\n",
    "with open(\"Suffix Trie Splits.txt\",\"w\") as f:\n",
    "    for w in words[:]:\n",
    "        stem, suff = find_split(w, suffix_trie, suffix=True)\n",
    "        f.write(f\"{w} = {stem}+{suff}\\n\")\n",
    "\n",
    "print(\"\\nSuffix Trie Splits written\")"
   ]
  },
  {
   "cell_type": "code",
   "execution_count": 8,
   "id": "a314638f",
   "metadata": {},
   "outputs": [
    {
     "name": "stdout",
     "output_type": "stream",
     "text": [
      "\\Prefix Trie Splits probability written\n",
      "\n",
      "Suffix Trie Splits probability written\n"
     ]
    }
   ],
   "source": [
    "def make_node():\n",
    "    return {\"count\": 0, \"children\": {}}\n",
    "\n",
    "def insert_word(trie, word):\n",
    "    node = trie\n",
    "    node[\"count\"] += 1\n",
    "    for ch in word:\n",
    "        if ch not in node[\"children\"]:\n",
    "            node[\"children\"][ch] = make_node()\n",
    "        node = node[\"children\"][ch]\n",
    "        node[\"count\"] += 1\n",
    "\n",
    "def build_trie(words, suffix=False):\n",
    "    root = make_node()\n",
    "    for word in words:\n",
    "        w = word[::-1] if suffix else word\n",
    "        insert_word(root, w)\n",
    "    return root\n",
    "\n",
    "def find_split(word, trie, suffix=False):\n",
    "    node = trie\n",
    "    best_split = 0\n",
    "    max_branch = 0\n",
    "    best_prob = 0.0\n",
    "    chars = word[::-1] if suffix else word\n",
    "\n",
    "    for i, ch in enumerate(chars):\n",
    "        if ch not in node[\"children\"]:\n",
    "            break\n",
    "        node = node[\"children\"][ch]\n",
    "        branch = len(node[\"children\"])\n",
    "        if branch > max_branch:\n",
    "            max_branch = branch\n",
    "            best_split = i + 1\n",
    "            # probability = (#children) / (count at this node)\n",
    "            best_prob = branch / node[\"count\"]\n",
    "\n",
    "    if suffix:\n",
    "        stem = word[:-best_split] if best_split > 0 else word\n",
    "        suff = word[-best_split:] if best_split > 0 else \"\"\n",
    "    else:\n",
    "        stem = word[:best_split] if best_split > 0 else word\n",
    "        suff = word[best_split:] if best_split > 0 else \"\"\n",
    "\n",
    "    return stem, suff, max_branch, best_prob\n",
    "\n",
    "with open(input_file) as f:\n",
    "    words = [w.strip() for w in f if w.strip()]\n",
    "\n",
    "prefix_trie = build_trie(words, suffix=False)\n",
    "suffix_trie = build_trie(words, suffix=True)\n",
    "\n",
    "with open(\"Prefix Trie Splits Probability.txt\",\"w\") as f:\n",
    "    for w in words[:]:\n",
    "        stem, suff, freq, prob = find_split(w, prefix_trie, suffix=False)\n",
    "        f.write(f\"{w} = {stem}+{suff}  | branching={freq}, prob={prob:.2f}\\n\") \n",
    "\n",
    "print(\"\\Prefix Trie Splits probability written\")\n",
    "\n",
    "with open(\"Suffix Trie Splits Probability.txt\",\"w\") as f:\n",
    "    for w in words[:]:\n",
    "        stem, suff, freq, prob = find_split(w, suffix_trie, suffix=True)\n",
    "        f.write(f\"{w} = {stem}+{suff}  | branching={freq}, prob={prob:.2f}\\n\")  \n",
    "\n",
    "print(\"\\nSuffix Trie Splits probability written\")"
   ]
  }
 ],
 "metadata": {
  "kernelspec": {
   "display_name": "base",
   "language": "python",
   "name": "python3"
  },
  "language_info": {
   "codemirror_mode": {
    "name": "ipython",
    "version": 3
   },
   "file_extension": ".py",
   "mimetype": "text/x-python",
   "name": "python",
   "nbconvert_exporter": "python",
   "pygments_lexer": "ipython3",
   "version": "3.13.5"
  }
 },
 "nbformat": 4,
 "nbformat_minor": 5
}
