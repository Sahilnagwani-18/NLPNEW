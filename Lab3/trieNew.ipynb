{
 "cells": [
  {
   "cell_type": "code",
   "execution_count": 70,
   "id": "ec7ab577",
   "metadata": {},
   "outputs": [],
   "source": [
    "class TrieNode:\n",
    "    def __init__(self):\n",
    "        self.children={}\n",
    "        self.count=0\n",
    "        self.is_end=False\n",
    "\n",
    "class PrefixTrie:\n",
    "    def __init__(self):\n",
    "        self.root=TrieNode()\n",
    "    \n",
    "    def insert(self,word):\n",
    "        node=self.root\n",
    "        for char in word:\n",
    "            if char not in node.children:\n",
    "                node.children[char]=TrieNode()\n",
    "            node=node.children[char]\n",
    "            node.count+=1\n",
    "        node.is_end=True\n",
    "    \n",
    "    def dfs(self,node,prefix=\"\",depth=0):\n",
    "        if node is None:\n",
    "            node=self.root\n",
    "        print(f\"Prefix: {prefix} | Depth: {depth} | Count: {node.count}\")\n",
    "        for char,nxt in node.children.items():\n",
    "            self.dfs(nxt,prefix+char,depth+1)"
   ]
  },
  {
   "cell_type": "code",
   "execution_count": 71,
   "id": "d1dd5643",
   "metadata": {},
   "outputs": [],
   "source": [
    "class SuffixTrie:\n",
    "    def __init__(self):\n",
    "        self.root=TrieNode()\n",
    "    \n",
    "    def insert(self,word):\n",
    "        word=word[::-1]\n",
    "        node=self.root\n",
    "        for char in word:\n",
    "            if char not in node.children:\n",
    "                node.children[char]=TrieNode()\n",
    "            node=node.children[char]\n",
    "            node.count+=1\n",
    "        node.is_end=True\n",
    "    \n",
    "    def dfs(self,node,prefix=\"\",depth=0):\n",
    "        if node is None:\n",
    "            node=self.root\n",
    "        print(f\"Prefix: {prefix} | Depth: {depth} | Count: {node.count}\")\n",
    "        for char,nxt in node.children.items():\n",
    "            self.dfs(nxt,prefix+char,depth+1)"
   ]
  },
  {
   "cell_type": "code",
   "execution_count": 72,
   "id": "5f035b4e",
   "metadata": {},
   "outputs": [],
   "source": [
    "path=\"C:\\\\Sahil\\\\NLP\\\\Lab3\\\\brown_nouns.txt\"\n",
    "trie=PrefixTrie()\n",
    "with open(path,'r') as f:\n",
    "    for line in f:\n",
    "        words=line.split()\n",
    "        for word in words:\n",
    "            trie.insert(word)\n",
    "\n"
   ]
  },
  {
   "cell_type": "code",
   "execution_count": 73,
   "id": "71517f61",
   "metadata": {},
   "outputs": [
    {
     "name": "stdout",
     "output_type": "stream",
     "text": [
      "Total Count: 202793\n"
     ]
    }
   ],
   "source": [
    "total_count = 0\n",
    "with open(path,'r') as f:\n",
    "    for line in f:\n",
    "        words=line.split()\n",
    "        for word in words:\n",
    "            total_count+=1\n",
    "print(f\"Total Count: {total_count}\")"
   ]
  },
  {
   "cell_type": "code",
   "execution_count": 74,
   "id": "bae31c58",
   "metadata": {},
   "outputs": [],
   "source": [
    "import math\n",
    "\n",
    "def find_best_split(word, trie, total_count,beta=1.0,min_count=1,min_frac=None):\n",
    "    node = trie.root\n",
    "    depth = 0\n",
    "    parent_count = total_count\n",
    "    scores = {}\n",
    "    \n",
    "    \n",
    "    for ch in word:\n",
    "        if ch not in node.children:\n",
    "            break\n",
    "        node = node.children[ch]\n",
    "        depth += 1\n",
    "        cnt = node.count\n",
    "\n",
    "        if min_frac is not None and cnt < min_frac * total_count:\n",
    "            continue\n",
    "        if cnt < min_count:\n",
    "            continue\n",
    "        ratio = (cnt / (parent_count)) if parent_count > 0 else 0.0\n",
    "        score = cnt * math.log(1 + depth) * (ratio ** beta)\n",
    "        extra = {'ratio': ratio}\n",
    "        scores[depth] = {\n",
    "            'score': score,\n",
    "            'prefix': word[:depth],\n",
    "            'count': cnt,\n",
    "            'depth': depth,\n",
    "            'parent_count': parent_count,\n",
    "            **extra\n",
    "        }\n",
    "        parent_count = cnt\n",
    "\n",
    "    if not scores:\n",
    "        return None\n",
    " \n",
    "    best_depth, best_info = max(scores.items(), key=lambda kv: kv[1]['score'])\n",
    "    return best_info\n"
   ]
  },
  {
   "cell_type": "code",
   "execution_count": 76,
   "id": "c15d5f63",
   "metadata": {},
   "outputs": [],
   "source": [
    "suffix_trie = SuffixTrie()\n",
    "with open(path, 'r') as f:\n",
    "    for line in f:\n",
    "        words = line.split()\n",
    "        for word in words:\n",
    "            suffix_trie.insert(word) "
   ]
  },
  {
   "cell_type": "code",
   "execution_count": null,
   "id": "a4690303",
   "metadata": {},
   "outputs": [],
   "source": [
    "import csv\n",
    "\n",
    "prefix_file = \"best_splits.txt\"\n",
    "with open(path, 'r') as f, open(prefix_file, 'w', encoding='utf-8', newline='') as out:\n",
    "    writer = csv.writer(out)\n",
    "    for line in f:\n",
    "        words = line.split()\n",
    "        for word in words:\n",
    "            best = find_best_split(word, trie, total_count, min_count=1, min_frac=0.0001)\n",
    "            if best:\n",
    "                writer.writerow([\n",
    "                    word,\n",
    "                    best['prefix'],\n",
    "                    f\"{best['score']:.2f}\",\n",
    "                    best['count'],\n",
    "                    best['depth'],\n",
    "                    f\"{best['ratio']:.4f}\"\n",
    "                ])\n",
    "\n",
    "\n",
    "suffix_file = \"best_splits_suffix.txt\"\n",
    "with open(path, 'r') as f, open(suffix_file, 'w', encoding='utf-8', newline='') as out:\n",
    "    writer = csv.writer(out)\n",
    "    for line in f:\n",
    "        words = line.split()\n",
    "        for word in words:\n",
    "            best = find_best_split(word[::-1], suffix_trie, total_count, min_count=1, min_frac=0.0001)\n",
    "            if best:\n",
    "                suffix = best['prefix'][::-1]\n",
    "                writer.writerow([\n",
    "                    word,\n",
    "                    suffix,\n",
    "                    f\"{best['score']:.2f}\",\n",
    "                    best['count'],\n",
    "                    best['depth'],\n",
    "                    f\"{best['ratio']:.4f}\"\n",
    "                ])\n"
   ]
  },
  {
   "cell_type": "code",
   "execution_count": null,
   "id": "26806b22",
   "metadata": {},
   "outputs": [
    {
     "name": "stdout",
     "output_type": "stream",
     "text": [
      "                     word prefix suffix  final_score\n",
      "14562523       production    pro    ion          1.0\n",
      "14562522       production    pro    ion          1.0\n",
      "14562521       production    pro    ion          1.0\n",
      "14562520       production    pro    ion          1.0\n",
      "14562519       production    pro    ion          1.0\n",
      "14562518       production    pro    ion          1.0\n",
      "14562517       production    pro    ion          1.0\n",
      "14562516       production    pro    ion          1.0\n",
      "14562515       production    pro    ion          1.0\n",
      "14562514       production    pro    ion          1.0\n",
      "14562481       production    pro    ion          1.0\n",
      "14562480       production    pro    ion          1.0\n",
      "14562511       production    pro    ion          1.0\n",
      "14562510       production    pro    ion          1.0\n",
      "14562509       production    pro    ion          1.0\n",
      "2429090   prognostication    pro    ion          1.0\n",
      "14562538       production    pro    ion          1.0\n",
      "14562539       production    pro    ion          1.0\n",
      "14562540       production    pro    ion          1.0\n",
      "14562512       production    pro    ion          1.0\n"
     ]
    }
   ],
   "source": [
    "import pandas as pd\n",
    "\n",
    "suffix_file = \"best_splits_suffix.txt\"\n",
    "prefix_file = \"best_splits.txt\"\n",
    "\n",
    "prefix_df = pd.read_csv(\n",
    "    \"best_splits.txt\",\n",
    "    names=[\"word\", \"prefix\", \"score_pre\", \"freq_pre\", \"len_pre\", \"ratio_pre\"]\n",
    ")\n",
    "\n",
    "suffix_df = pd.read_csv(\n",
    "    \"best_splits_suffix.txt\",\n",
    "    names=[\"word\", \"suffix\", \"score_suf\", \"freq_suf\", \"len_suf\", \"ratio_suf\"]\n",
    ")\n",
    "\n",
    "df = pd.merge(suffix_df, prefix_df, on=\"word\", how=\"inner\")\n",
    "\n",
    "df[\"final_score\"] = (\n",
    "    (df[\"ratio_suf\"] * df[\"len_suf\"] * df[\"score_suf\"])**0.5 +\n",
    "    (df[\"ratio_pre\"] * df[\"len_pre\"] * df[\"score_pre\"])**0.5\n",
    ")\n",
    "\n",
    "df[\"final_score\"] = df[\"final_score\"] / df[\"final_score\"].max()\n",
    "\n",
    "\n",
    "df_sorted = df.sort_values(\"final_score\", ascending=False)\n",
    "\n",
    "print(df_sorted[[\"word\", \"prefix\", \"suffix\", \"final_score\"]].head(20))\n",
    "\n",
    "\n"
   ]
  },
  {
   "cell_type": "code",
   "execution_count": 80,
   "id": "f10b512b",
   "metadata": {},
   "outputs": [],
   "source": [
    "df[\"better\"] = df.apply(\n",
    "    lambda row: \"prefix\" if row[\"score_pre\"] > row[\"score_suf\"] else \"suffix\",\n",
    "    axis=1\n",
    ")"
   ]
  },
  {
   "cell_type": "code",
   "execution_count": null,
   "id": "2bd3cba8",
   "metadata": {},
   "outputs": [],
   "source": [
    "df[\"prefix_strength\"] = df[\"score_pre\"] * df[\"ratio_pre\"] * df[\"len_pre\"]\n",
    "df[\"suffix_strength\"] = df[\"score_suf\"] * df[\"ratio_suf\"] * df[\"len_suf\"]\n",
    "\n",
    "df[\"better\"] = df.apply(\n",
    "    lambda row: \"prefix\" if row[\"prefix_strength\"] > row[\"suffix_strength\"] else \"suffix\",\n",
    "    axis=1\n",
    ")"
   ]
  },
  {
   "cell_type": "code",
   "execution_count": 82,
   "id": "0356d14b",
   "metadata": {},
   "outputs": [
    {
     "name": "stdout",
     "output_type": "stream",
     "text": [
      "better\n",
      "suffix    73.064366\n",
      "prefix    26.935634\n",
      "Name: proportion, dtype: float64\n"
     ]
    }
   ],
   "source": [
    "print(df[\"better\"].value_counts(normalize=True) * 100)\n"
   ]
  },
  {
   "cell_type": "markdown",
   "id": "3179ee01",
   "metadata": {},
   "source": [
    "score = cnt * log(1 + depth) * (ratio ** beta)\n"
   ]
  },
  {
   "cell_type": "markdown",
   "id": "39b5c015",
   "metadata": {},
   "source": [
    "Suffix analysis explains most word patterns, prefix explains fewer but still important ones."
   ]
  },
  {
   "cell_type": "markdown",
   "id": "aee39daa",
   "metadata": {},
   "source": [
    "Suffix is better if\n",
    "\n",
    "final_score_suf(word)\n",
    ">\n",
    "final_score_pre(word)\n",
    "final_score_suf(word)>final_score_pre(word)\n",
    "\n",
    "Prefix is better if\n",
    "\n",
    "final_score_pre(word)\n",
    ">\n",
    "final_score_suf(word)\n",
    "final_score_pre(word)>final_score_suf(word)"
   ]
  },
  {
   "cell_type": "markdown",
   "id": "a6be9b66",
   "metadata": {},
   "source": [
    "side_score_suf=sqrt(ratio×len×score)suffix​\n",
    "\n",
    "\n",
    "\n",
    "side_score_pre=sqrt(ratio×len×score)prefix​\n",
    "​\n",
    "​"
   ]
  },
  {
   "cell_type": "markdown",
   "id": "bdff6776",
   "metadata": {},
   "source": [
    "#In english ,Suffixes are generally more informative than prefixes."
   ]
  }
 ],
 "metadata": {
  "kernelspec": {
   "display_name": "base",
   "language": "python",
   "name": "python3"
  },
  "language_info": {
   "codemirror_mode": {
    "name": "ipython",
    "version": 3
   },
   "file_extension": ".py",
   "mimetype": "text/x-python",
   "name": "python",
   "nbconvert_exporter": "python",
   "pygments_lexer": "ipython3",
   "version": "3.13.5"
  }
 },
 "nbformat": 4,
 "nbformat_minor": 5
}
